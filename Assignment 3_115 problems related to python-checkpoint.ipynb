{
 "cells": [
  {
   "cell_type": "markdown",
   "id": "e79a57b0-8a3c-43d9-96c9-2503b8042223",
   "metadata": {},
   "source": [
    "# Basic Problems:"
   ]
  },
  {
   "cell_type": "markdown",
   "id": "018de2cd-aa6a-4c1f-88c2-87a3b3bc7681",
   "metadata": {},
   "source": [
    "### 1. Variable Swap: Write a Python program to swap the values of two variables without using a temporary variable.\n"
   ]
  },
  {
   "cell_type": "code",
   "execution_count": 1,
   "id": "cbbdf1a6-7efd-4421-ae78-03fe9d9a62bc",
   "metadata": {},
   "outputs": [
    {
     "name": "stdin",
     "output_type": "stream",
     "text": [
      "Emter the 1st value:  2\n",
      "Emter the 2nd value:  3\n"
     ]
    },
    {
     "name": "stdout",
     "output_type": "stream",
     "text": [
      "Before swapping:  a=2, b=3\n",
      "After swapping:  a=3, b=2\n"
     ]
    }
   ],
   "source": [
    "a=int(input(\"Emter the 1st value: \"))\n",
    "b=int(input(\"Emter the 2nd value: \"))\n",
    "\n",
    "print(f\"Before swapping:  a={a}, b={b}\")\n",
    "print(f\"After swapping:  a={b}, b={a}\")"
   ]
  },
  {
   "cell_type": "markdown",
   "id": "164c0a6d-79ee-4396-a79f-ed9b29a75d17",
   "metadata": {},
   "source": [
    "### 2. Even or Odd: Write a Python program that takes an integer as input and prints whether it is even or odd."
   ]
  },
  {
   "cell_type": "code",
   "execution_count": 2,
   "id": "f6f277e4-e8fa-48d7-8f0f-573b04fac5d7",
   "metadata": {},
   "outputs": [
    {
     "name": "stdin",
     "output_type": "stream",
     "text": [
      "Enter the integer value:  5\n"
     ]
    },
    {
     "name": "stdout",
     "output_type": "stream",
     "text": [
      "5 is a odd number\n"
     ]
    }
   ],
   "source": [
    "input_integer=int(input(\"Enter the integer value: \"))\n",
    "if input_integer%2==0:\n",
    "    print(f\"{input_integer} is an even number\")\n",
    "else:\n",
    "    print(f\"{input_integer} is a odd number\")\n",
    "    "
   ]
  },
  {
   "cell_type": "markdown",
   "id": "dad4a4a5-07e5-4e3c-9d93-738ebbd83a7a",
   "metadata": {},
   "source": [
    "### 3. String Reverse: Write a Python function to reverse a given string and return the reversed string."
   ]
  },
  {
   "cell_type": "code",
   "execution_count": 3,
   "id": "afde112a-b59b-4153-8837-2fb50af6e5ff",
   "metadata": {},
   "outputs": [
    {
     "name": "stdin",
     "output_type": "stream",
     "text": [
      "Enter a string:  sourav\n"
     ]
    },
    {
     "name": "stdout",
     "output_type": "stream",
     "text": [
      "reversed given string:  varuos\n"
     ]
    }
   ],
   "source": [
    "given_string=input(\"Enter a string: \")\n",
    "reversed_string=''\n",
    "for char in given_string:\n",
    "    reversed_string=char+reversed_string\n",
    "print(\"reversed given string: \", reversed_string)"
   ]
  },
  {
   "cell_type": "markdown",
   "id": "e0d3b271-ee02-4d94-afae-a6d05e9651ef",
   "metadata": {},
   "source": [
    "### 4. Type Conversion: Given a list of integers, write a Python program to convert each element of the list to a string."
   ]
  },
  {
   "cell_type": "code",
   "execution_count": 4,
   "id": "3f170158-c3a5-49ce-baee-f3076719ace3",
   "metadata": {},
   "outputs": [
    {
     "name": "stdout",
     "output_type": "stream",
     "text": [
      "converted_string_list:  ['1', '2', '3', '4', '5', '6']\n"
     ]
    }
   ],
   "source": [
    "given_list=[1,2,3,4,5,6]\n",
    "converted_string_list=[]\n",
    "for i in given_list:\n",
    "    converted_string_list.append(str(i))\n",
    "print(\"converted_string_list: \", converted_string_list)"
   ]
  },
  {
   "cell_type": "markdown",
   "id": "3b588e9c-f52e-42d9-8abc-dc64e4daf80c",
   "metadata": {},
   "source": [
    "### 5. Temperature Converter: Write a Python program that converts a temperature in Celsius to Fahrenheit. Take the Celsius temperature as input from the user."
   ]
  },
  {
   "cell_type": "raw",
   "id": "e14450bd-e63c-43c7-ba1a-64a670a382b5",
   "metadata": {},
   "source": [
    "celcius_temperature=int(input(\"Enter the celcius_temperature: \"))\n",
    "Fahrenheit_temperature=(5/9)*celcius_temperature+32\n",
    "print(\"Fahrenheit_temperature: \", Fahrenheit_temperature )\n"
   ]
  },
  {
   "cell_type": "markdown",
   "id": "9d0fcca9-cc26-4ac0-a9f7-040555c0e266",
   "metadata": {},
   "source": [
    "### 6. Data Type Checker: Write a Python function that takes a variable as input and returns the data type of the variable as a string (e.g., “int”, “float”, “str”, “list”, etc.)."
   ]
  },
  {
   "cell_type": "code",
   "execution_count": 6,
   "id": "30f64cf7-ce99-4b9f-8b4c-03653e5ceb0c",
   "metadata": {},
   "outputs": [
    {
     "name": "stdout",
     "output_type": "stream",
     "text": [
      "list\n"
     ]
    }
   ],
   "source": [
    "def data_type_checker(variable):\n",
    "    if isinstance(variable, int):\n",
    "        return \"int\"\n",
    "    elif isinstance(variable, float):\n",
    "        return \"float\"\n",
    "    elif isinstance(variable, str):\n",
    "       return \"string\"\n",
    "    elif isinstance(variable, list):\n",
    "       return \"list\"\n",
    "    elif isinstance(variable, tuple):\n",
    "        return \"tuple\"\n",
    "    elif isinstance(variable, set):\n",
    "       return \"set\"\n",
    "    elif isinstance(variable, dict):\n",
    "       return \"dict\"\n",
    "    else:\n",
    "        return \"Unknown type\"\n",
    "print(data_type_checker([1,2,3,4,5]))"
   ]
  },
  {
   "cell_type": "markdown",
   "id": "68a5b6a8-6543-4dfc-936e-1accf61424a7",
   "metadata": {},
   "source": [
    "### 7. String Palindrome: Write a Python function to check if a given string is a palindrome or not.\n"
   ]
  },
  {
   "cell_type": "code",
   "execution_count": 7,
   "id": "91dd9a3a-74bb-47d0-8fa1-7ead81bf9381",
   "metadata": {},
   "outputs": [
    {
     "name": "stdin",
     "output_type": "stream",
     "text": [
      "Enter a string:  sourav\n"
     ]
    },
    {
     "name": "stdout",
     "output_type": "stream",
     "text": [
      "sourav is not a palindrome\n"
     ]
    }
   ],
   "source": [
    "Given_string=input(\"Enter a string: \")\n",
    "def Palindrome_checker(Given_string):\n",
    "    reversed_string=''\n",
    "    for char in Given_string:\n",
    "        reversed_string=char+reversed_string\n",
    "    return reversed_string\n",
    "    \n",
    "reversed_string=Palindrome_checker(Given_string)\n",
    "\n",
    "if reversed_string==Given_string:\n",
    "    print(f\"{Given_string} is a palindrome\")\n",
    "else:\n",
    "    print(f\"{Given_string} is not a palindrome\")                "
   ]
  },
  {
   "cell_type": "markdown",
   "id": "1786f600-7dc5-4c96-9ecd-3f3411f01726",
   "metadata": {},
   "source": [
    "### 8. String Reversal with Slicing: Write a Python function to reverse a given string using slicing."
   ]
  },
  {
   "cell_type": "code",
   "execution_count": 8,
   "id": "3d5e59aa-d092-40aa-8072-093ca805111b",
   "metadata": {},
   "outputs": [
    {
     "name": "stdin",
     "output_type": "stream",
     "text": [
      "Enter a string:  sourav\n"
     ]
    },
    {
     "name": "stdout",
     "output_type": "stream",
     "text": [
      "The reversed string of sourav is:  varuos\n"
     ]
    }
   ],
   "source": [
    "#syntax of a function: def function_name(parameters):\n",
    "given_string=input(\"Enter a string: \")\n",
    "def reverse_string_with_slicing(given_string):\n",
    "    return given_string[::-1] #sequence[start:stop:step, if step is -1, it gives reverse list] \n",
    "\n",
    "print(f\"The reversed string of {given_string} is: \", reverse_string_with_slicing(given_string))           "
   ]
  },
  {
   "cell_type": "markdown",
   "id": "1364aff9-e768-4ee0-b12f-1ef462a2f91a",
   "metadata": {},
   "source": [
    "### 9. String Concatenation: Write a Python program that takes two strings as input and concatenates them into a single string without using the `+` operator."
   ]
  },
  {
   "cell_type": "code",
   "execution_count": 9,
   "id": "eefc015e-faa9-4afc-848a-d42e740bf806",
   "metadata": {},
   "outputs": [
    {
     "name": "stdin",
     "output_type": "stream",
     "text": [
      "Enter the first string :  sourav\n",
      "Enter the second string :  sarker\n"
     ]
    },
    {
     "name": "stdout",
     "output_type": "stream",
     "text": [
      "Concatenated string:  sourav sarker\n"
     ]
    }
   ],
   "source": [
    "string1 = input(\"Enter the first string : \")\n",
    "string2 = input(\"Enter the second string : \")\n",
    "\n",
    "concatenated_string = ' '.join([string1, string2])\n",
    "print(\"Concatenated string: \", concatenated_string)\n"
   ]
  },
  {
   "cell_type": "markdown",
   "id": "417b31b2-e1ef-4be4-a326-c313e821b18d",
   "metadata": {},
   "source": [
    "### 10. Typecasting Challenge: Given three variables: `a = ‘100’`, `b = 25`, and `c = ‘10.5’`, write a Python program to perform the following operations and print the results: – Convert `a` to an integer and add it to `b`. – Convert `c` to a float and subtract it from the result of the first operation. – Convert the final result to a string and concatenate it with the string ” is the answer.”"
   ]
  },
  {
   "cell_type": "code",
   "execution_count": 10,
   "id": "76862020-43db-4bce-bcdc-2ad944d4efc3",
   "metadata": {},
   "outputs": [
    {
     "name": "stdout",
     "output_type": "stream",
     "text": [
      "114.5 is the answer\n"
     ]
    }
   ],
   "source": [
    "a = '100'\n",
    "b = 25\n",
    "c = '10.5'\n",
    "\n",
    "int_a=int(a)\n",
    "First_operation=int_a + b\n",
    "float_c=float(c)\n",
    "Final_operation=First_operation-float_c\n",
    "\n",
    "Final_operation=str(Final_operation)\n",
    "Concated_operation=Final_operation+ \" is the answer\"\n",
    "print(Concated_operation, sep=' ')"
   ]
  },
  {
   "cell_type": "markdown",
   "id": "2022b839-c886-4214-ade8-dad4b6a08f3a",
   "metadata": {},
   "source": [
    "# Python Conditional Statements:"
   ]
  },
  {
   "cell_type": "markdown",
   "id": "c0ae9d66-35ea-4ac6-813a-de0a453e6544",
   "metadata": {},
   "source": [
    "### 11. Positive, Negative, or Zero: Write a Python program that takes a number as input and prints whether it is positive, negative, or zero."
   ]
  },
  {
   "cell_type": "code",
   "execution_count": 11,
   "id": "568f44d3-c0d6-4e62-9dca-2bd2d96d41a0",
   "metadata": {},
   "outputs": [
    {
     "name": "stdin",
     "output_type": "stream",
     "text": [
      "Enter the value of n:  5\n"
     ]
    },
    {
     "name": "stdout",
     "output_type": "stream",
     "text": [
      "5 is a positive number\n"
     ]
    }
   ],
   "source": [
    "n=int(input(\"Enter the value of n: \"))\n",
    "if n>0:\n",
    "    print (f\"{n} is a positive number\")\n",
    "elif n<0:\n",
    "    print (f\"{n} is a negative number\")\n",
    "else:\n",
    "    print (f\"{n} is zero\")"
   ]
  },
  {
   "cell_type": "markdown",
   "id": "50d921ca-25e4-40a0-9aea-b450dc6322ee",
   "metadata": {},
   "source": [
    "### 12. Largest of Three Numbers: Write a Python program that takes three numbers as input and prints the largest among them."
   ]
  },
  {
   "cell_type": "code",
   "execution_count": 12,
   "id": "489ffd0c-9ae5-4e45-86aa-b4223eb141c2",
   "metadata": {},
   "outputs": [
    {
     "name": "stdin",
     "output_type": "stream",
     "text": [
      "Enter the first number:  4\n",
      "Enter the second number:  5\n",
      "Enter the third number:  6\n"
     ]
    },
    {
     "name": "stdout",
     "output_type": "stream",
     "text": [
      "numm_3 or 6 is the greatest number\n"
     ]
    }
   ],
   "source": [
    "num_1=int(input(\"Enter the first number: \"))\n",
    "num_2=int(input(\"Enter the second number: \"))\n",
    "num_3=int(input(\"Enter the third number: \"))\n",
    "\n",
    "if num_1>num_2 and num_1>num_3:\n",
    "    print(f\"numm_1 or {num_1} is the greatest number\" )\n",
    "elif num_2>num_1 and num_2>num_3:\n",
    "    print(f\"numm_2 or {num_2} is the greatest number\" )\n",
    "else:\n",
    "    print(f\"numm_3 or {num_3} is the greatest number\" )"
   ]
  },
  {
   "cell_type": "markdown",
   "id": "6396284a-2d62-4510-89d3-b9069c2df49a",
   "metadata": {},
   "source": [
    "### 13. Leap Year Checker: Write a Python program that takes a year as input and determines if it is a leap year or not."
   ]
  },
  {
   "cell_type": "code",
   "execution_count": 13,
   "id": "595b8033-5060-4bc9-bb43-50a0afbd4c0f",
   "metadata": {},
   "outputs": [
    {
     "name": "stdin",
     "output_type": "stream",
     "text": [
      "Enter the year:  2023\n"
     ]
    },
    {
     "name": "stdout",
     "output_type": "stream",
     "text": [
      "This is not a leap year \n"
     ]
    }
   ],
   "source": [
    "year=int(input(\"Enter the year: \"))\n",
    "if (year%4==0 and year%100!=0) or (year%400==0):\n",
    "    print(\"This year is a leap year\")\n",
    "else:\n",
    "    print(\"This is not a leap year \")"
   ]
  },
  {
   "cell_type": "markdown",
   "id": "f0b1b32c-7c89-434e-a04b-71b686e3613e",
   "metadata": {},
   "source": [
    "### 14. Grades Classification: Write a Python program that takes a student’s percentage as input and prints their corresponding grade according to the following criteria: – 90% or above: A+ – 80-89%: A – 70-79%: B – 60-69%: C – Below 60%: Fail"
   ]
  },
  {
   "cell_type": "code",
   "execution_count": 14,
   "id": "23faed74-d9a8-4d24-8a56-1fd4a5bf616e",
   "metadata": {},
   "outputs": [
    {
     "name": "stdin",
     "output_type": "stream",
     "text": [
      "Enter the mark percentages:  56\n"
     ]
    },
    {
     "name": "stdout",
     "output_type": "stream",
     "text": [
      "Fail\n"
     ]
    }
   ],
   "source": [
    "Grade_percentage=int(input(\"Enter the mark percentages: \"))\n",
    "if Grade_percentage>=90:\n",
    "    print(\"A+\")\n",
    "elif Grade_percentage>=80 and Grade_percentage<90:\n",
    "    print(\"A\")\n",
    "elif Grade_percentage>=70 and Grade_percentage<80:\n",
    "    print(\"B\")\n",
    "elif Grade_percentage>=60 and Grade_percentage<70:\n",
    "    print(\"c\")\n",
    "else:\n",
    "    print(\"Fail\")"
   ]
  },
  {
   "cell_type": "markdown",
   "id": "181923e8-bb83-4689-bd16-77ae34fa88a1",
   "metadata": {},
   "source": [
    "### 15. Vowel or Consonant: Write a Python program that takes a single character as input and determines whether it is a vowel or a consonant."
   ]
  },
  {
   "cell_type": "code",
   "execution_count": 19,
   "id": "c8085cc1-9bf0-4237-a0f3-e5074f57c1b3",
   "metadata": {},
   "outputs": [
    {
     "name": "stdin",
     "output_type": "stream",
     "text": [
      "Enter a character:  h\n"
     ]
    },
    {
     "name": "stdout",
     "output_type": "stream",
     "text": [
      "The character is a consonant\n"
     ]
    }
   ],
   "source": [
    "char = input(\"Enter a character: \")\n",
    "vowels = 'aeiouAEIOU'\n",
    "if char in vowels:\n",
    "    print(\"The character is a vowel\")\n",
    "else:\n",
    "    print(\"The character is a consonant\")"
   ]
  },
  {
   "cell_type": "markdown",
   "id": "915622cb-f116-4348-b7f8-034e2233284d",
   "metadata": {},
   "source": [
    "### 16. Time Classification: Write a Python program that takes the time in hours (24-hour format) as input and prints “Good Morning”, “Good Afternoon”, “Good Evening”, or “Good Night” based on the time."
   ]
  },
  {
   "cell_type": "code",
   "execution_count": 20,
   "id": "c9e5fc7d-949a-48b8-ba50-b55ac19758f1",
   "metadata": {},
   "outputs": [
    {
     "name": "stdin",
     "output_type": "stream",
     "text": [
      "Enter the time in hrs (0-24):  3\n"
     ]
    },
    {
     "name": "stdout",
     "output_type": "stream",
     "text": [
      "Good night\n"
     ]
    }
   ],
   "source": [
    "time=int(input(\"Enter the time in hrs (0-24): \"))\n",
    "if 5<=time<12:\n",
    "    print(\"Good Morning\")\n",
    "if 12<=time<17:\n",
    "    print(\"Good Afternoon\")\n",
    "if 17<=time<21:\n",
    "    print(\"Good Evening\")\n",
    "if (21<=time<24) or (0<=time<5):\n",
    "    print(\"Good night\")"
   ]
  },
  {
   "cell_type": "markdown",
   "id": "aeed49af-8f7d-4526-97b6-98aa3ac12fae",
   "metadata": {},
   "source": [
    "### 17. Triangle Type Checker: Write a Python program that takes three sides of a triangle as input and determines whether it forms an equilateral, isosceles, or scalene triangle.\n",
    "\n"
   ]
  },
  {
   "cell_type": "code",
   "execution_count": 21,
   "id": "3df57e4a-e0bf-4a34-8c78-9b1b977defe7",
   "metadata": {},
   "outputs": [
    {
     "name": "stdin",
     "output_type": "stream",
     "text": [
      "Enter the first side of the triangle:  4\n",
      "Enter the second side of the triangle:  5\n",
      "Enter the third side of the triangle:  6\n"
     ]
    },
    {
     "name": "stdout",
     "output_type": "stream",
     "text": [
      "scalene triangle\n"
     ]
    }
   ],
   "source": [
    "side_1=float(input(\"Enter the first side of the triangle: \"))\n",
    "side_2=float(input(\"Enter the second side of the triangle: \"))\n",
    "side_3=float(input(\"Enter the third side of the triangle: \"))\n",
    "\n",
    "if side_1==side_2==side_3:\n",
    "    print(\"equilateral triangle\")\n",
    "elif side_1 == side_2 or side_2 == side_3 or side_1 == side_3:\n",
    "    print(\"isosceles triangle\")   \n",
    "else:\n",
    "    print(\"scalene triangle\")  "
   ]
  },
  {
   "cell_type": "markdown",
   "id": "99243ce7-ccdf-406a-9bd9-8f7ba25e23bf",
   "metadata": {},
   "source": [
    "### 18. Quadratic Equation Solver: Write a Python program that takes the coefficients (a, b, c) of a quadratic equation as input and calculates and prints the real roots (if they exist) or a message indicating the complex roots.\n",
    "\n"
   ]
  },
  {
   "cell_type": "code",
   "execution_count": 22,
   "id": "dd9e96ef-728e-4d08-922e-94c0b70d87ef",
   "metadata": {},
   "outputs": [
    {
     "name": "stdin",
     "output_type": "stream",
     "text": [
      "Enter the value of a:  4\n",
      "Enter the value of b:  5\n",
      "Enter the value of c:  7\n"
     ]
    },
    {
     "name": "stdout",
     "output_type": "stream",
     "text": [
      "The equation has two complex roots: -0.625 + 1.165922381636102i and -0.625 - 1.165922381636102i\n"
     ]
    }
   ],
   "source": [
    "import math\n",
    "a=float(input(\"Enter the value of a: \"))\n",
    "b=float(input(\"Enter the value of b: \"))\n",
    "c=float(input(\"Enter the value of c: \"))\n",
    "\n",
    "if a==0:\n",
    "    print (\"The coefficient value can't be o !\")\n",
    "else: \n",
    "    discriminant= b**2-4*a*c\n",
    "    if discriminant>0:\n",
    "        root1=(-b+ math.sqrt(discriminant))/(2*a)\n",
    "        root2=(-b- math.sqrt(discriminant))/(2*a)\n",
    "        print(f\"The equation has two distinct real roots: {root1} and {root2}\")\n",
    "    elif discriminant==0:\n",
    "        root = -b / (2 * a)\n",
    "        print(f\"The equation has one real root: {root}\")\n",
    "    else:\n",
    "        real_part = -b / (2 * a)\n",
    "        imaginary_part = math.sqrt(-discriminant) / (2 * a)\n",
    "        print(f\"The equation has two complex roots: {real_part} + {imaginary_part}i and {real_part} - {imaginary_part}i\")"
   ]
  },
  {
   "cell_type": "markdown",
   "id": "ae7e4871-7839-4807-9d4d-c6196ef8ea0a",
   "metadata": {},
   "source": [
    "### 19. Number Ranges: Write a Python program that takes an integer as input and prints whether the number falls within the ranges: 0-50, 51-100, 101-150, or above 150.\n",
    "\n"
   ]
  },
  {
   "cell_type": "code",
   "execution_count": 23,
   "id": "13ed852f-596f-483a-b9b6-13193954edb7",
   "metadata": {},
   "outputs": [
    {
     "name": "stdin",
     "output_type": "stream",
     "text": [
      "Enter the number:  4\n"
     ]
    },
    {
     "name": "stdout",
     "output_type": "stream",
     "text": [
      "4.0 fall within the range of 0-50 \n"
     ]
    }
   ],
   "source": [
    "number=float(input(\"Enter the number: \"))\n",
    "if number<0:\n",
    "    print(\"This number is beyond the range\")\n",
    "else: \n",
    "    if 0<=number<=50:\n",
    "        print(f\"{number} fall within the range of 0-50 \")\n",
    "    elif 50 <number<=100:\n",
    "        print(f\"{number} fall within the range of 51-100 \")\n",
    "    elif 100<number<=150:\n",
    "        print(f\"{number} fall within the range of 101-150 \")\n",
    "    else:\n",
    "        print((f\"{number} fall within the range of above 150 \"))"
   ]
  },
  {
   "cell_type": "markdown",
   "id": "cd3f1c7b-24d0-47ea-a847-5720e778c4ca",
   "metadata": {},
   "source": [
    "# For & While Loops:"
   ]
  },
  {
   "cell_type": "markdown",
   "id": "7cd4f4f2-5abf-4ac3-b42b-95bcd865f8dd",
   "metadata": {},
   "source": [
    "### 20. Sum of N Numbers: Write a Python program using a for loop to calculate the sum of the first N natural numbers, where N is taken as input from the user."
   ]
  },
  {
   "cell_type": "code",
   "execution_count": 24,
   "id": "770f9fd9-7214-4364-8049-19bea645827e",
   "metadata": {},
   "outputs": [
    {
     "name": "stdin",
     "output_type": "stream",
     "text": [
      "Enter the value of N:  44\n"
     ]
    },
    {
     "name": "stdout",
     "output_type": "stream",
     "text": [
      "The Sum of first N natural number is:  990\n"
     ]
    }
   ],
   "source": [
    "N=int(input(\"Enter the value of N: \"))\n",
    "total_sum=0\n",
    "for i in range(0, N+1):\n",
    "    total_sum=total_sum+i\n",
    "print(\"The Sum of first N natural number is: \", total_sum)"
   ]
  },
  {
   "cell_type": "markdown",
   "id": "c2f62117-2d80-42a2-91d4-baae51991f15",
   "metadata": {},
   "source": [
    "### 21. Factorial Calculator: Write a Python program using a while loop to calculate the factorial of a given number N.\n",
    "\n"
   ]
  },
  {
   "cell_type": "code",
   "execution_count": 26,
   "id": "d6762ebb-9176-45de-a198-8e844c03a916",
   "metadata": {},
   "outputs": [
    {
     "name": "stdin",
     "output_type": "stream",
     "text": [
      "Enter the value of N:  5\n"
     ]
    },
    {
     "name": "stdout",
     "output_type": "stream",
     "text": [
      "The factorial of 5 is:  120\n"
     ]
    }
   ],
   "source": [
    "N=int(input(\"Enter the value of N: \"))\n",
    "factorial=1\n",
    "counter=N\n",
    "while counter>0:\n",
    "    factorial=factorial*counter\n",
    "    counter-=1\n",
    "print(f\"The factorial of {N} is: \", factorial)\n",
    "    "
   ]
  },
  {
   "cell_type": "markdown",
   "id": "7a27b1e1-b5ae-440d-8e42-8ba6ffa665a0",
   "metadata": {},
   "source": [
    "### 22. Table of a Number: Write a Python program using a for loop to print the multiplication table of a given number N."
   ]
  },
  {
   "cell_type": "code",
   "execution_count": 27,
   "id": "a7b364ce-18bf-4887-9b15-42e6cb3a1114",
   "metadata": {},
   "outputs": [
    {
     "name": "stdin",
     "output_type": "stream",
     "text": [
      "Enter the number:  10\n"
     ]
    },
    {
     "name": "stdout",
     "output_type": "stream",
     "text": [
      "10 * 1 = 10\n",
      "10 * 2 = 20\n",
      "10 * 3 = 30\n",
      "10 * 4 = 40\n",
      "10 * 5 = 50\n",
      "10 * 6 = 60\n",
      "10 * 7 = 70\n",
      "10 * 8 = 80\n",
      "10 * 9 = 90\n",
      "10 * 10 = 100\n"
     ]
    }
   ],
   "source": [
    "Number=int(input(\"Enter the number: \"))\n",
    "for i in range(1, Number+1):\n",
    "    multiplication=Number*i\n",
    "    print(Number,  \"*\",  i,  \"=\", multiplication)"
   ]
  },
  {
   "cell_type": "markdown",
   "id": "18a4bc01-f08f-43aa-96b5-702bb95e887d",
   "metadata": {},
   "source": [
    "### 23. Count Digits in a Number: Write a Python program using a while loop to count the number of digits in a given integer N.\n",
    "\n"
   ]
  },
  {
   "cell_type": "code",
   "execution_count": 28,
   "id": "2983039f-0a90-486d-ad8c-78e54179e477",
   "metadata": {},
   "outputs": [
    {
     "name": "stdin",
     "output_type": "stream",
     "text": [
      "Enter the number:  4\n"
     ]
    },
    {
     "name": "stdout",
     "output_type": "stream",
     "text": [
      "The number of digits in 4 is: 1\n"
     ]
    }
   ],
   "source": [
    "N = int(input(\"Enter the number: \"))\n",
    "number = abs(N)  \n",
    "count = len(str(number)) \n",
    "print(f\"The number of digits in {N} is: {count}\")"
   ]
  },
  {
   "cell_type": "markdown",
   "id": "34d7c9fb-0dcc-41c1-ab01-481354b39713",
   "metadata": {},
   "source": [
    "### 24. Fibonacci Sequence: Write a Python program using a for loop to generate the Fibonacci sequence up to a given limit N."
   ]
  },
  {
   "cell_type": "code",
   "execution_count": 29,
   "id": "d577e53d-8f66-4d77-90f7-221dc5ac3b23",
   "metadata": {},
   "outputs": [
    {
     "name": "stdin",
     "output_type": "stream",
     "text": [
      "Enter the limit:  4\n"
     ]
    },
    {
     "name": "stdout",
     "output_type": "stream",
     "text": [
      "Fibonacci sequence up to 4: [0, 1, 1, 2, 3]\n"
     ]
    }
   ],
   "source": [
    "def fibonacci_up_to_limit(limit):\n",
    "    a, b = 0, 1\n",
    "    fibonacci_sequence = []\n",
    "    \n",
    "    while a <= limit:\n",
    "        fibonacci_sequence.append(a)\n",
    "        a, b = b, a + b\n",
    "    \n",
    "    return fibonacci_sequence\n",
    "\n",
    "# Example usage\n",
    "limit = int(input(\"Enter the limit: \"))\n",
    "print(f\"Fibonacci sequence up to {limit}: {fibonacci_up_to_limit(limit)}\")"
   ]
  },
  {
   "cell_type": "markdown",
   "id": "f21c3033-2c0f-421a-83cb-8a3dac99dae3",
   "metadata": {},
   "source": [
    "### 25. Sum of Even Numbers: Write a Python program using a while loop to calculate the sum of all even numbers between 1 and N, where N is taken as input from the user.\n",
    "\n"
   ]
  },
  {
   "cell_type": "code",
   "execution_count": 30,
   "id": "bef59497-9af7-448a-9499-5d0422ce5b7d",
   "metadata": {},
   "outputs": [
    {
     "name": "stdin",
     "output_type": "stream",
     "text": [
      "Enter the number:  5\n"
     ]
    },
    {
     "name": "stdout",
     "output_type": "stream",
     "text": [
      "The sum of all even number is : 6\n"
     ]
    }
   ],
   "source": [
    "N=int(input(\"Enter the number: \"))\n",
    "total_sum=0\n",
    "count=2\n",
    "while count<=N:\n",
    "    total_sum=total_sum+count\n",
    "    count+=2\n",
    "print(\"The sum of all even number is :\", total_sum)\n",
    "    "
   ]
  },
  {
   "cell_type": "markdown",
   "id": "4e3f6304-3734-4326-8677-5ded4f1f6a86",
   "metadata": {},
   "source": [
    "### 26. Print Patterns: Write a Python program using nested for loops to print various patterns, such as a right-angled triangle, an inverted right-angled triangle, and so on.\n",
    "\n"
   ]
  },
  {
   "cell_type": "code",
   "execution_count": 31,
   "id": "1b789bf4-7d45-4295-9b6b-533e5730217e",
   "metadata": {},
   "outputs": [
    {
     "name": "stdin",
     "output_type": "stream",
     "text": [
      "number of rows:  4\n"
     ]
    },
    {
     "name": "stdout",
     "output_type": "stream",
     "text": [
      "* \n",
      "* * \n",
      "* * * \n",
      "* * * * \n"
     ]
    }
   ],
   "source": [
    "n=int(input(\"number of rows: \"))\n",
    "\n",
    "for i in range(1, n+1):\n",
    "    for j in range(i):\n",
    "        print(\"*\", end=' ' )\n",
    "    print()"
   ]
  },
  {
   "cell_type": "markdown",
   "id": "0c46aa19-f3e2-4b66-a98e-3ce9e00358a2",
   "metadata": {},
   "source": [
    "### 27. Prime Number Checker: Write a Python program using a while loop to check if a given number N is prime or not.\n",
    "\n"
   ]
  },
  {
   "cell_type": "code",
   "execution_count": 32,
   "id": "9aa9d336-3422-443a-a3b9-efe279f31efd",
   "metadata": {},
   "outputs": [
    {
     "name": "stdin",
     "output_type": "stream",
     "text": [
      "Enter the number:  4\n"
     ]
    },
    {
     "name": "stdout",
     "output_type": "stream",
     "text": [
      "The number is not prime\n"
     ]
    }
   ],
   "source": [
    "N=int(input(\"Enter the number: \"))\n",
    "if N<=1:\n",
    "    print(\"The number is not a prime number\")\n",
    "else:\n",
    "    divisor=2\n",
    "    while divisor<=int(N**0.5):\n",
    "        if N%divisor==0:\n",
    "            print(\"The number is not prime\")\n",
    "            break\n",
    "            \n",
    "        divisor+=1\n",
    "    else:\n",
    "        print(\"The number is a prime number\")\n",
    "\n",
    "    "
   ]
  },
  {
   "cell_type": "markdown",
   "id": "0715570a-bd80-4997-92a3-5ad1ba8110ac",
   "metadata": {},
   "source": [
    "### 28. List Manipulation: Given a list of integers, write a Python program using a for loop to find the sum, average, maximum, and minimum values in the list.\n",
    "\n"
   ]
  },
  {
   "cell_type": "code",
   "execution_count": 33,
   "id": "0a50e9d3-ef56-45c4-8c63-675effb470a9",
   "metadata": {},
   "outputs": [
    {
     "name": "stdout",
     "output_type": "stream",
     "text": [
      "sum 15\n",
      "max_value 5\n",
      "min_value 1\n",
      "Average 3.0\n"
     ]
    }
   ],
   "source": [
    "N=[1,2,3,4,5]\n",
    "total_sum=0\n",
    "max_value=N[0]\n",
    "min_value=N[0]\n",
    "for num in N:\n",
    "    total_sum=total_sum+num\n",
    "    if num>max_value:\n",
    "       max_value=num\n",
    "    if num<min_value:\n",
    "        min_value=num\n",
    "\n",
    "average=total_sum/len(N)\n",
    "print(\"sum\", total_sum)\n",
    "print(\"max_value\", max_value)\n",
    "print(\"min_value\", min_value)\n",
    "print(\"Average\", average)\n"
   ]
  },
  {
   "cell_type": "markdown",
   "id": "cfabc84c-f0d9-4c29-a6f0-dc8d3fdecaa4",
   "metadata": {},
   "source": [
    "### 29. Reverse String: Write a Python program using a while loop to reverse a given string.\n",
    "\n"
   ]
  },
  {
   "cell_type": "code",
   "execution_count": 34,
   "id": "355ef189-5488-485f-aeb5-63e2db3a863c",
   "metadata": {
    "scrolled": true
   },
   "outputs": [
    {
     "name": "stdin",
     "output_type": "stream",
     "text": [
      "Enter a input:  3\n"
     ]
    },
    {
     "name": "stdout",
     "output_type": "stream",
     "text": [
      "output 3\n"
     ]
    }
   ],
   "source": [
    "given_input=input(\"Enter a input: \")\n",
    "output=''\n",
    "i=len(given_input)-1\n",
    "while i>=0:\n",
    "    output+=given_input[i]\n",
    "    i-=1\n",
    "print(\"output\", output)"
   ]
  },
  {
   "cell_type": "markdown",
   "id": "c2352c6d-fa92-40df-ba91-6c4571883a7d",
   "metadata": {},
   "source": [
    "### 30. Multiplication Table: Write a Python program using nested loops to print the multiplication table from 1 to 10.\n",
    "\n"
   ]
  },
  {
   "cell_type": "code",
   "execution_count": 35,
   "id": "ec8bc709-224d-4b44-8a1f-750a161e105c",
   "metadata": {},
   "outputs": [
    {
     "name": "stdout",
     "output_type": "stream",
     "text": [
      "1 * 1 = 1\n",
      "1 * 2 = 2\n",
      "1 * 3 = 3\n",
      "1 * 4 = 4\n",
      "1 * 5 = 5\n",
      "1 * 6 = 6\n",
      "1 * 7 = 7\n",
      "1 * 8 = 8\n",
      "1 * 9 = 9\n",
      "1 * 10 = 10\n",
      "\n",
      "2 * 1 = 2\n",
      "2 * 2 = 4\n",
      "2 * 3 = 6\n",
      "2 * 4 = 8\n",
      "2 * 5 = 10\n",
      "2 * 6 = 12\n",
      "2 * 7 = 14\n",
      "2 * 8 = 16\n",
      "2 * 9 = 18\n",
      "2 * 10 = 20\n",
      "\n",
      "3 * 1 = 3\n",
      "3 * 2 = 6\n",
      "3 * 3 = 9\n",
      "3 * 4 = 12\n",
      "3 * 5 = 15\n",
      "3 * 6 = 18\n",
      "3 * 7 = 21\n",
      "3 * 8 = 24\n",
      "3 * 9 = 27\n",
      "3 * 10 = 30\n",
      "\n",
      "4 * 1 = 4\n",
      "4 * 2 = 8\n",
      "4 * 3 = 12\n",
      "4 * 4 = 16\n",
      "4 * 5 = 20\n",
      "4 * 6 = 24\n",
      "4 * 7 = 28\n",
      "4 * 8 = 32\n",
      "4 * 9 = 36\n",
      "4 * 10 = 40\n",
      "\n",
      "5 * 1 = 5\n",
      "5 * 2 = 10\n",
      "5 * 3 = 15\n",
      "5 * 4 = 20\n",
      "5 * 5 = 25\n",
      "5 * 6 = 30\n",
      "5 * 7 = 35\n",
      "5 * 8 = 40\n",
      "5 * 9 = 45\n",
      "5 * 10 = 50\n",
      "\n",
      "6 * 1 = 6\n",
      "6 * 2 = 12\n",
      "6 * 3 = 18\n",
      "6 * 4 = 24\n",
      "6 * 5 = 30\n",
      "6 * 6 = 36\n",
      "6 * 7 = 42\n",
      "6 * 8 = 48\n",
      "6 * 9 = 54\n",
      "6 * 10 = 60\n",
      "\n",
      "7 * 1 = 7\n",
      "7 * 2 = 14\n",
      "7 * 3 = 21\n",
      "7 * 4 = 28\n",
      "7 * 5 = 35\n",
      "7 * 6 = 42\n",
      "7 * 7 = 49\n",
      "7 * 8 = 56\n",
      "7 * 9 = 63\n",
      "7 * 10 = 70\n",
      "\n",
      "8 * 1 = 8\n",
      "8 * 2 = 16\n",
      "8 * 3 = 24\n",
      "8 * 4 = 32\n",
      "8 * 5 = 40\n",
      "8 * 6 = 48\n",
      "8 * 7 = 56\n",
      "8 * 8 = 64\n",
      "8 * 9 = 72\n",
      "8 * 10 = 80\n",
      "\n",
      "9 * 1 = 9\n",
      "9 * 2 = 18\n",
      "9 * 3 = 27\n",
      "9 * 4 = 36\n",
      "9 * 5 = 45\n",
      "9 * 6 = 54\n",
      "9 * 7 = 63\n",
      "9 * 8 = 72\n",
      "9 * 9 = 81\n",
      "9 * 10 = 90\n",
      "\n",
      "10 * 1 = 10\n",
      "10 * 2 = 20\n",
      "10 * 3 = 30\n",
      "10 * 4 = 40\n",
      "10 * 5 = 50\n",
      "10 * 6 = 60\n",
      "10 * 7 = 70\n",
      "10 * 8 = 80\n",
      "10 * 9 = 90\n",
      "10 * 10 = 100\n",
      "\n"
     ]
    }
   ],
   "source": [
    "n=10\n",
    "for i in range(1, n+1):\n",
    "    for j in range(1, n+1):\n",
    "        print(i, \"*\", j,  \"=\", i*j)\n",
    "    print()"
   ]
  },
  {
   "cell_type": "markdown",
   "id": "c464eba6-8e56-466d-bf99-0e0408867f44",
   "metadata": {},
   "source": [
    "### 31. Print Patterns: Write a Python program using nested loops to print the following pattern:*****\n"
   ]
  },
  {
   "cell_type": "code",
   "execution_count": 36,
   "id": "b3409e54-eaa9-46c8-a42e-e945929e9d2b",
   "metadata": {},
   "outputs": [
    {
     "name": "stdout",
     "output_type": "stream",
     "text": [
      "*\n",
      "**\n",
      "***\n",
      "****\n",
      "*****\n"
     ]
    }
   ],
   "source": [
    "for i in range(1,  6):\n",
    "    for j in range(i):\n",
    "        print(\"*\", end=\"\")\n",
    "    print()"
   ]
  },
  {
   "cell_type": "markdown",
   "id": "d9a1f955-b052-4c93-acc0-57af2f41fd50",
   "metadata": {},
   "source": [
    "### 32. Matrix Multiplication: Write a Python program using nested loops to multiply two matrices."
   ]
  },
  {
   "cell_type": "markdown",
   "id": "2b5d5e08-8f05-4ef7-a1bb-85d5df69be62",
   "metadata": {},
   "source": []
  },
  {
   "cell_type": "code",
   "execution_count": 37,
   "id": "d5d39fa4-6552-443b-995e-c8ba40049df7",
   "metadata": {},
   "outputs": [
    {
     "name": "stdout",
     "output_type": "stream",
     "text": [
      "[25, 28, 31]\n",
      "[57, 64, 71]\n",
      "[89, 100, 111]\n"
     ]
    }
   ],
   "source": [
    "a=[\n",
    "    [1, 2], \n",
    "    [3, 4],\n",
    "    [5, 6],\n",
    "]\n",
    "\n",
    "b=[\n",
    "    [7, 8, 9], \n",
    "    [9, 10, 11],\n",
    "]\n",
    "\n",
    "result=[\n",
    "    [0, 0, 0],\n",
    "    [0, 0, 0], \n",
    "    [0, 0, 0], \n",
    "]\n",
    "\n",
    "for i in range(3): # for row of a \n",
    "    for j in range(3): # for column of b\n",
    "        for k in range(2): #for row of b\n",
    "            result[i][j]= result[i][j]+a[i][k]*b[k][j]\n",
    "for r in result:\n",
    "    print (r)"
   ]
  },
  {
   "cell_type": "markdown",
   "id": "dd04bc99-d06d-4e3a-990c-8938c2a14c8c",
   "metadata": {},
   "source": [
    "### 33. Chessboard Pattern: Write a Python program using nested loops to print a chessboard pattern (alternating “X” and “O” characters) of size 8×8.\n",
    "\n"
   ]
  },
  {
   "cell_type": "code",
   "execution_count": 38,
   "id": "453b972d-0fee-4a14-8fae-073af3a66d6f",
   "metadata": {},
   "outputs": [
    {
     "name": "stdout",
     "output_type": "stream",
     "text": [
      "X O X O X O X O \n",
      "O X O X O X O X \n",
      "X O X O X O X O \n",
      "O X O X O X O X \n",
      "X O X O X O X O \n",
      "O X O X O X O X \n",
      "X O X O X O X O \n",
      "O X O X O X O X \n"
     ]
    }
   ],
   "source": [
    "for i in range(8):\n",
    "    for j in range (8):\n",
    "        if (i+j)%2==0:\n",
    "            print(\"X\", end=' ')\n",
    "        else:\n",
    "            print(\"O\", end=' ')\n",
    "    print()\n",
    "\n"
   ]
  },
  {
   "cell_type": "markdown",
   "id": "2c2465d3-6738-4638-b94b-6a1ce4aa636c",
   "metadata": {},
   "source": [
    "### 34. Number Pyramid: Write a Python program using nested loops to print a number pyramid like the following: 1 22 333 4444 55555"
   ]
  },
  {
   "cell_type": "code",
   "execution_count": 39,
   "id": "ef3838ed-0e12-4dc6-8047-3e3c3a29b1c7",
   "metadata": {},
   "outputs": [
    {
     "name": "stdin",
     "output_type": "stream",
     "text": [
      "Enter a number of rows:  5\n"
     ]
    },
    {
     "name": "stdout",
     "output_type": "stream",
     "text": [
      "1 \n",
      "2 2 \n",
      "3 3 3 \n",
      "4 4 4 4 \n",
      "5 5 5 5 5 \n"
     ]
    }
   ],
   "source": [
    "n = int(input(\"Enter a number of rows: \"))\n",
    "for i in range(1, n+1):\n",
    "    for j in range(i):\n",
    "        print(i, end=\" \")\n",
    "    print()"
   ]
  },
  {
   "cell_type": "markdown",
   "id": "cf551a1a-720f-4ea1-8041-cc40362a9e8e",
   "metadata": {},
   "source": [
    "### 35. List Average: Write a Python program to calculate the average of all elements in a given list of integers."
   ]
  },
  {
   "cell_type": "code",
   "execution_count": 40,
   "id": "bc87016b-1fee-410c-a71b-34b133d1352a",
   "metadata": {},
   "outputs": [
    {
     "name": "stdout",
     "output_type": "stream",
     "text": [
      "The average of the list is: 4.0\n"
     ]
    }
   ],
   "source": [
    "given_list = [1, 2, 3, 4, 5, 6, 7]\n",
    "\n",
    "total_sum = sum(given_list)\n",
    "average = total_sum / len(given_list)\n",
    "\n",
    "print(f\"The average of the list is: {average}\")\n"
   ]
  },
  {
   "cell_type": "markdown",
   "id": "97fa17ba-bd36-4519-930b-d7329ec22f19",
   "metadata": {},
   "source": [
    "### 36. List Max and Min: Write a Python program to find the maximum and minimum values in a given list of integers.\n",
    "\n"
   ]
  },
  {
   "cell_type": "code",
   "execution_count": 41,
   "id": "663c6417-fa80-419d-bc89-4dec53046e03",
   "metadata": {},
   "outputs": [
    {
     "name": "stdout",
     "output_type": "stream",
     "text": [
      "Max_value 7\n",
      "Min_value 1\n"
     ]
    }
   ],
   "source": [
    "given_list = [1, 2, 3, 4, 5, 6, 7]\n",
    "max_value=max(given_list)\n",
    "min_value=min(given_list)\n",
    "\n",
    "print('Max_value', max_value)\n",
    "print('Min_value', min_value)"
   ]
  },
  {
   "cell_type": "markdown",
   "id": "999ace70-f5fb-430d-a908-94f1057202e9",
   "metadata": {},
   "source": [
    "### 37. List Sorting: Write a Python program to sort a list of integers in ascending order."
   ]
  },
  {
   "cell_type": "code",
   "execution_count": 42,
   "id": "f92829c6-e555-4a99-8903-a2f630772390",
   "metadata": {},
   "outputs": [
    {
     "name": "stdout",
     "output_type": "stream",
     "text": [
      "Sorted list:  [1, 2, 3, 4, 5, 6, 7]\n"
     ]
    }
   ],
   "source": [
    "given_list = [1, 2, 3, 4, 5, 6, 7]\n",
    "sorted_list=sorted(given_list)\n",
    "print(\"Sorted list: \", sorted_list)"
   ]
  },
  {
   "cell_type": "markdown",
   "id": "4849b58d-b469-4b8f-88b6-5ef0357e88bd",
   "metadata": {},
   "source": [
    "### 38. List Filtering: Given a list of integers, write a Python program to create a new list that contains only the even numbers from the original list.\n",
    "\n"
   ]
  },
  {
   "cell_type": "code",
   "execution_count": 43,
   "id": "74fbf126-92ae-42f0-aebe-7b3efd9270f6",
   "metadata": {},
   "outputs": [
    {
     "name": "stdout",
     "output_type": "stream",
     "text": [
      "Even_list [2, 4, 6]\n"
     ]
    }
   ],
   "source": [
    "given_list = [1, 2, 3, 4, 5, 6, 7]\n",
    " # List comprehension syntax: [expression for item in iterable if condition]\n",
    "Even_list=[x for x in given_list if x%2==0  ]\n",
    "print(\"Even_list\", Even_list)"
   ]
  },
  {
   "cell_type": "markdown",
   "id": "5aba1a71-df73-4ebc-97c6-5178e2ecce63",
   "metadata": {},
   "source": [
    "### 39. List Reversal: Write a Python program to reverse a given list without using any built-in functions.\n",
    "\n"
   ]
  },
  {
   "cell_type": "code",
   "execution_count": 44,
   "id": "680fcefe-9504-4373-a737-5a32daf30d42",
   "metadata": {},
   "outputs": [
    {
     "name": "stdout",
     "output_type": "stream",
     "text": [
      "[7, 6, 5, 4, 3, 2, 1]\n"
     ]
    }
   ],
   "source": [
    "given_list = [1, 2, 3, 4, 5, 6, 7]\n",
    "\n",
    "start = 0\n",
    "end = len(given_list) - 1\n",
    "\n",
    "while start < end:\n",
    "    given_list[start], given_list[end] = given_list[end], given_list[start]\n",
    "    \n",
    "    start += 1\n",
    "    end -= 1\n",
    "\n",
    "print(given_list)"
   ]
  },
  {
   "cell_type": "markdown",
   "id": "cf365725-1321-4204-8c70-ae85b524cdc2",
   "metadata": {},
   "source": [
    "### 40. List Manipulation: Given two lists of integers, write a Python program to create a new list that contains elements common to both lists.\n",
    "\n"
   ]
  },
  {
   "cell_type": "code",
   "execution_count": 45,
   "id": "ae696d9a-0678-44f4-bd61-5204970549ca",
   "metadata": {},
   "outputs": [
    {
     "name": "stdout",
     "output_type": "stream",
     "text": [
      "[4, 5, 6]\n"
     ]
    }
   ],
   "source": [
    "given_list1 = [1, 2, 3, 4, 5, 6, 7]\n",
    "given_list2 = [5, 6, 8, 4, 5, 6, 9]\n",
    "\n",
    "New_list = list(set(given_list1) & set(given_list2))\n",
    "\n",
    "print(New_list)\n"
   ]
  },
  {
   "cell_type": "markdown",
   "id": "15a1a50a-51dd-4fd2-b9aa-4e74a8971edf",
   "metadata": {},
   "source": [
    "### 41. List Element Count: Write a Python program to count the occurrences of a specific element in a given list.\n",
    "\n"
   ]
  },
  {
   "cell_type": "code",
   "execution_count": 46,
   "id": "ff749b63-15be-45de-be6f-657c4a83663e",
   "metadata": {},
   "outputs": [
    {
     "data": {
      "text/plain": [
       "2"
      ]
     },
     "execution_count": 46,
     "metadata": {},
     "output_type": "execute_result"
    }
   ],
   "source": [
    "given_list = [5, 6, 8, 4, 5, 6, 9]\n",
    "given_list.count(6)"
   ]
  },
  {
   "cell_type": "markdown",
   "id": "c490c919-c046-499e-b6c7-3b7f1dede24e",
   "metadata": {},
   "source": [
    "### 42. List Duplicates Removal: Write a Python program to remove duplicates from a given list while preserving the order of the elements.\n",
    "\n"
   ]
  },
  {
   "cell_type": "code",
   "execution_count": 47,
   "id": "5667cb84-8d7a-4a61-803a-feb918c87536",
   "metadata": {},
   "outputs": [
    {
     "name": "stdout",
     "output_type": "stream",
     "text": [
      "New_unique_list=  [5, 6, 8, 4, 9]\n"
     ]
    }
   ],
   "source": [
    "given_list = [5, 6, 8, 4, 5, 6, 9]\n",
    "\n",
    "New_unique_list=[]\n",
    "seen=set()\n",
    "\n",
    "for num in given_list:\n",
    "    if num not in seen:\n",
    "        New_unique_list.append(num)\n",
    "        seen.add(num)\n",
    "print(\"New_unique_list= \", New_unique_list)"
   ]
  },
  {
   "cell_type": "markdown",
   "id": "8da8ff10-0fc4-4108-9fe7-c38ae2eb9cc8",
   "metadata": {},
   "source": [
    "### 43. List Comprehension: Given a list of integers, write a Python program to create a new list that contains the squares of the elements using list comprehension.\n",
    "\n"
   ]
  },
  {
   "cell_type": "code",
   "execution_count": 48,
   "id": "bfd1f28c-d0e1-4a39-bbe3-c3c4cbf383ff",
   "metadata": {},
   "outputs": [
    {
     "name": "stdout",
     "output_type": "stream",
     "text": [
      "New_list [25, 36, 64, 16, 25, 36, 81]\n"
     ]
    }
   ],
   "source": [
    "given_list = [5, 6, 8, 4, 5, 6, 9]\n",
    " # List comprehension syntax: [expression for item in iterable if condition]\n",
    "New_list=[x**2 for x in given_list]\n",
    "print(\"New_list\", New_list)"
   ]
  },
  {
   "cell_type": "markdown",
   "id": "b7403003-68a7-47c1-affd-d0d573e76684",
   "metadata": {},
   "source": [
    "# Nested List Problems:\n"
   ]
  },
  {
   "cell_type": "markdown",
   "id": "55ba9332-dc24-4aea-9cf1-493e97b8b536",
   "metadata": {},
   "source": [
    "### 44. Matrix Addition: Write a Python program to add two matrices represented as nested lists.\n",
    "\n"
   ]
  },
  {
   "cell_type": "code",
   "execution_count": 49,
   "id": "995968fa-f3cc-4f71-8f1e-dd7103e60f65",
   "metadata": {},
   "outputs": [
    {
     "name": "stdout",
     "output_type": "stream",
     "text": [
      "[2, 4, 6]\n",
      "[2, 4, 6]\n",
      "[2, 4, 6]\n",
      "[2, 4, 6]\n"
     ]
    }
   ],
   "source": [
    "a=[\n",
    "    [1,2,3],\n",
    "    [1,2,3],\n",
    "    [1,2,3],\n",
    "    [1,2,3]\n",
    "]\n",
    "\n",
    "b=[\n",
    "    [1,2,3],\n",
    "    [1,2,3],\n",
    "    [1,2,3],\n",
    "    [1,2,3]\n",
    "]\n",
    "\n",
    "result=[\n",
    "    [0,0,0],\n",
    "    [0,0,0],\n",
    "    [0,0,0],\n",
    "    [0,0,0]\n",
    "]\n",
    "\n",
    "for i in range(len(a)):\n",
    "    for j in range(len(a[0])):\n",
    "        result[i][j]=a[i][j]+b[i][j]\n",
    "\n",
    "for r in result:\n",
    "    print(r)\n",
    "        \n",
    "        \n",
    "        "
   ]
  },
  {
   "cell_type": "markdown",
   "id": "a365f018-7cf3-4b52-8fc9-85a956364b1d",
   "metadata": {},
   "source": [
    "### 45. Flatten Nested List: Write a Python program to flatten a given nested list and convert it into a single-dimensional list.\n"
   ]
  },
  {
   "cell_type": "code",
   "execution_count": 50,
   "id": "25fbbdc1-8de5-45c6-8243-0710c0a51e02",
   "metadata": {},
   "outputs": [
    {
     "name": "stdout",
     "output_type": "stream",
     "text": [
      "[1, 2, 3, 4, 5, 2, 3, 4]\n"
     ]
    }
   ],
   "source": [
    "nested_list=[[1,2,3],[4,5],[2,3,4]]\n",
    "Flatten_list=[item for sublist in nested_list for item in sublist ]\n",
    "print(Flatten_list)"
   ]
  },
  {
   "cell_type": "markdown",
   "id": "72cc2d70-eb2f-4208-9b77-6877d7536325",
   "metadata": {},
   "source": [
    "### 46. List Element Frequency: Given a nested list containing lists of integers, write a Python program to count the frequency of each element in the entire nested list.\n",
    "\n"
   ]
  },
  {
   "cell_type": "code",
   "execution_count": 51,
   "id": "a7284970-0bf8-4315-92c0-6864aa8152c7",
   "metadata": {},
   "outputs": [
    {
     "name": "stdout",
     "output_type": "stream",
     "text": [
      "After seeing the 1: {1: 1}\n",
      "After seeing the 2: {1: 1, 2: 1}\n",
      "After seeing the 3: {1: 1, 2: 1, 3: 1}\n",
      "After seeing the 4: {1: 1, 2: 1, 3: 1, 4: 1}\n",
      "After seeing the 5: {1: 1, 2: 1, 3: 1, 4: 1, 5: 1}\n",
      "After seeing the 2: {1: 1, 2: 2, 3: 1, 4: 1, 5: 1}\n",
      "After seeing the 3: {1: 1, 2: 2, 3: 2, 4: 1, 5: 1}\n",
      "After seeing the 4: {1: 1, 2: 2, 3: 2, 4: 2, 5: 1}\n"
     ]
    }
   ],
   "source": [
    "nested_list = [[1, 2, 3], [4, 5], [2, 3, 4]]\n",
    "flatten_list = [item for sublist in nested_list for item in sublist]\n",
    "\n",
    "Count_dict = {}\n",
    "\n",
    "for item in flatten_list:\n",
    "    if item in Count_dict:\n",
    "        Count_dict[item] = Count_dict[item] + 1\n",
    "    else:\n",
    "        Count_dict[item] = 1\n",
    "    print(f\"After seeing the {item}: {Count_dict}\")\n",
    " "
   ]
  },
  {
   "cell_type": "markdown",
   "id": "9a3b75c3-9123-484d-9690-8d7da8a7b537",
   "metadata": {},
   "source": [
    "### 47. Transpose Matrix: Write a Python program to transpose a given matrix represented as a nested list.\n",
    "\n"
   ]
  },
  {
   "cell_type": "code",
   "execution_count": 52,
   "id": "e350d8d0-861a-4aa3-96ee-437c2e8fb1f6",
   "metadata": {},
   "outputs": [
    {
     "name": "stdout",
     "output_type": "stream",
     "text": [
      "[1, 3, 5]\n",
      "[2, 4, 6]\n"
     ]
    }
   ],
   "source": [
    "x=[\n",
    "[1, 2], \n",
    "[3, 4],\n",
    "[5, 6], \n",
    "]\n",
    "\n",
    "result=[\n",
    "    [0,0,0],\n",
    "    [0,0,0],\n",
    "]\n",
    "\n",
    "for i in range(len(x)):\n",
    "    for j in range(len(x[0])):\n",
    "        result[j][i]=x[i][j]\n",
    "for r in result:\n",
    "    print(r)"
   ]
  },
  {
   "cell_type": "markdown",
   "id": "16202708-ede3-4744-9b50-11f0a5cc3935",
   "metadata": {},
   "source": [
    "### 48. List of Lists Concatenation: Given a list of nested lists, write a Python program to concatenate all the sublists into a single flat list.\n",
    "\n"
   ]
  },
  {
   "cell_type": "code",
   "execution_count": 53,
   "id": "57e30e0b-f04c-474f-b8d7-3e6ddfbb351f",
   "metadata": {},
   "outputs": [
    {
     "name": "stdout",
     "output_type": "stream",
     "text": [
      "[1, 2, 3, 4, 5, 6, 7, 8, 9]\n"
     ]
    }
   ],
   "source": [
    "nested_lists = [\n",
    "    [1, 2, 3],\n",
    "    [4, 5],\n",
    "    [6, 7, 8, 9]\n",
    "]\n",
    "\n",
    "concatenated_List=[item for sublist in nested_lists for item in sublist ]\n",
    "\n",
    "print(concatenated_List)"
   ]
  },
  {
   "cell_type": "markdown",
   "id": "c7f6576a-90bf-46ad-a737-ea6559cea159",
   "metadata": {},
   "source": [
    "# Tuple Problems:\n"
   ]
  },
  {
   "cell_type": "markdown",
   "id": "54154bb3-fba5-4584-a5d4-ffc922ca4ed6",
   "metadata": {},
   "source": [
    "### 49. Tuple Concatenation: Write a Python program to concatenate two tuples and create a new tuple.\n",
    "\n"
   ]
  },
  {
   "cell_type": "code",
   "execution_count": 54,
   "id": "f9bcfe6d-e152-4ffa-a5b2-e7351fe59912",
   "metadata": {},
   "outputs": [
    {
     "name": "stdout",
     "output_type": "stream",
     "text": [
      "Concatenated tuple: (1, 2, 3, 4, 5, 6)\n"
     ]
    }
   ],
   "source": [
    "tuple1 = (1, 2, 3)\n",
    "tuple2 = (4, 5, 6)\n",
    "\n",
    "concatenated_tuple = tuple1 + tuple2\n",
    "\n",
    "print(\"Concatenated tuple:\", concatenated_tuple)"
   ]
  },
  {
   "cell_type": "markdown",
   "id": "b40fd5f4-8060-46a7-bd46-807c941c0805",
   "metadata": {},
   "source": [
    "### 50. Tuple Unpacking: Given a tuple with three elements (x, y, z), write a Python program to unpack the tuple and assign the values to three variables."
   ]
  },
  {
   "cell_type": "code",
   "execution_count": 55,
   "id": "69009ef2-4bc3-4923-94f9-b4be5d930702",
   "metadata": {},
   "outputs": [
    {
     "name": "stdout",
     "output_type": "stream",
     "text": [
      "x = 10\n",
      "y = 20\n",
      "z = 30\n"
     ]
    }
   ],
   "source": [
    "my_tuple = (10, 20, 30)\n",
    "\n",
    "x, y, z = my_tuple\n",
    "\n",
    "print(\"x =\", x)\n",
    "print(\"y =\", y)\n",
    "print(\"z =\", z)\n"
   ]
  },
  {
   "cell_type": "markdown",
   "id": "fa7c00fd-7424-45f4-9002-e8285df0e1d4",
   "metadata": {},
   "source": [
    "### 51. Tuple Sorting: Write a Python program to sort a tuple of integers in ascending order.\n",
    "\n"
   ]
  },
  {
   "cell_type": "code",
   "execution_count": 56,
   "id": "2e048fa6-2e28-47e6-b0d6-1d89ae4988f6",
   "metadata": {},
   "outputs": [
    {
     "name": "stdout",
     "output_type": "stream",
     "text": [
      "Sorted tuple: (1, 2, 5, 5, 6, 9)\n"
     ]
    }
   ],
   "source": [
    "my_tuple = (5, 2, 9, 1, 5, 6)\n",
    "\n",
    "# Convert the tuple to a list\n",
    "my_list = list(my_tuple)\n",
    "\n",
    "# Sort the list in ascending order\n",
    "my_list.sort()\n",
    "\n",
    "# Convert the list back to a tuple\n",
    "sorted_tuple = tuple(my_list)\n",
    "\n",
    "# Print the sorted tuple\n",
    "print(\"Sorted tuple:\", sorted_tuple)\n"
   ]
  },
  {
   "cell_type": "markdown",
   "id": "b6bba94b-290a-48bb-92f7-d1030f9aefa4",
   "metadata": {},
   "source": [
    "### 52. Tuple Frequency Count: Given a tuple containing various elements, write a Python program to count the frequency of a specific element in the tuple.\n",
    "\n"
   ]
  },
  {
   "cell_type": "code",
   "execution_count": 57,
   "id": "80f9c9a0-4dc1-4f7b-94ea-b2f4cca06c47",
   "metadata": {},
   "outputs": [
    {
     "name": "stdout",
     "output_type": "stream",
     "text": [
      "Frequency count: {1: 1, 2: 2, 3: 3, 4: 4}\n"
     ]
    }
   ],
   "source": [
    "\n",
    "my_tuple = (1, 2, 2, 3, 3, 3, 4, 4, 4, 4)\n",
    "\n",
    "# Convert to a set\n",
    "unique_elements = set(my_tuple)\n",
    "\n",
    "frequency_count = {element: my_tuple.count(element) for element in unique_elements} #dictionary comprehension\n",
    "\n",
    "print(\"Frequency count:\", frequency_count)"
   ]
  },
  {
   "cell_type": "markdown",
   "id": "6b3f1136-f2d2-4ea6-9f19-b67c5a4603e9",
   "metadata": {},
   "source": [
    "### 53. Tuple to List: Write a Python program to convert a tuple into a list. 54. Tuple Reversal: Write a Python program to reverse a tuple without using any built-in functions.\n",
    "\n"
   ]
  },
  {
   "cell_type": "code",
   "execution_count": 58,
   "id": "73fef8fb-3d97-4eb9-93e6-93a61525a629",
   "metadata": {},
   "outputs": [
    {
     "name": "stdout",
     "output_type": "stream",
     "text": [
      "Converted List: [1, 2, 3, 4, 5]\n"
     ]
    }
   ],
   "source": [
    "my_tuple = (1, 2, 3, 4, 5)\n",
    "\n",
    "my_list = list(my_tuple)\n",
    "print(\"Converted List:\", my_list)"
   ]
  },
  {
   "cell_type": "markdown",
   "id": "6cd37a81-4adf-4941-b8b7-b87bdbce6d0c",
   "metadata": {},
   "source": [
    "### 55. Tuple Slicing: Given a tuple, write a Python program to extract a slice of elements from it.\n",
    "\n"
   ]
  },
  {
   "cell_type": "code",
   "execution_count": 59,
   "id": "b9351204-ee81-4c1d-9cf4-dda6fd627be4",
   "metadata": {},
   "outputs": [
    {
     "name": "stdout",
     "output_type": "stream",
     "text": [
      "(2, 3, 4, 5)\n"
     ]
    }
   ],
   "source": [
    "my_tuple = (1, 2, 3, 4, 5)\n",
    "\n",
    "slicing_tuple=my_tuple[1:5:1]\n",
    "print(slicing_tuple)"
   ]
  },
  {
   "cell_type": "markdown",
   "id": "803c3e28-a9ca-438a-939b-d2cc74f5d4a0",
   "metadata": {},
   "source": [
    "### 56. Tuple Operations: Given two tuples of integers, write a Python program to perform element-wise addition, subtraction, and multiplication and create new tuples for each operation.\n",
    "\n"
   ]
  },
  {
   "cell_type": "code",
   "execution_count": 60,
   "id": "c4a76810-abda-4661-8ce5-c50a913a856b",
   "metadata": {},
   "outputs": [
    {
     "name": "stdout",
     "output_type": "stream",
     "text": [
      "Element-wise Addition: (5, 7, 9)\n",
      "Element-wise Subtraction: (-3, -3, -3)\n",
      "Element-wise Multiplication: (4, 10, 18)\n"
     ]
    }
   ],
   "source": [
    "tuple1 = (1, 2, 3)\n",
    "tuple2 = (4, 5, 6)\n",
    "\n",
    "addition = tuple(tuple1[i] + tuple2[i] for i in range(len(tuple1)))\n",
    "\n",
    "subtraction = tuple(tuple1[i] - tuple2[i] for i in range(len(tuple1)))\n",
    "\n",
    "multiplication = tuple(tuple1[i] * tuple2[i] for i in range(len(tuple1)))\n",
    "\n",
    "# Print the resulting tuples\n",
    "print(\"Element-wise Addition:\", addition)\n",
    "print(\"Element-wise Subtraction:\", subtraction)\n",
    "print(\"Element-wise Multiplication:\", multiplication)\n"
   ]
  },
  {
   "cell_type": "markdown",
   "id": "11966e01-7ed7-4cbc-b349-aca8fa041ec7",
   "metadata": {},
   "source": [
    "### 57. Tuple Membership Test: Write a Python program that takes an element as input and checks if it exists in a given tuple.\n",
    "\n"
   ]
  },
  {
   "cell_type": "code",
   "execution_count": 61,
   "id": "e045f7a0-03ec-41c6-b3e1-0b5753551f93",
   "metadata": {},
   "outputs": [
    {
     "name": "stdin",
     "output_type": "stream",
     "text": [
      "Enter an element to check:  10\n"
     ]
    },
    {
     "name": "stdout",
     "output_type": "stream",
     "text": [
      "10 exists in the tuple.\n"
     ]
    }
   ],
   "source": [
    "my_tuple = (10, 20, 30, 40, 50)\n",
    "\n",
    "element = int(input(\"Enter an element to check: \"))\n",
    "\n",
    "if element in my_tuple:\n",
    "    print(f\"{element} exists in the tuple.\")\n",
    "else:\n",
    "    print(f\"{element} does not exist in the tuple.\")"
   ]
  },
  {
   "cell_type": "markdown",
   "id": "d9f5fa7b-7da7-4370-b065-c60458b76bc7",
   "metadata": {},
   "source": [
    "### 58. Tuple Packing: Write a Python program to pack three variables into a single tuple and print the tuple.\n",
    "\n"
   ]
  },
  {
   "cell_type": "code",
   "execution_count": 62,
   "id": "d099f4de-4ce0-4c24-a7a5-276ed5143c5b",
   "metadata": {},
   "outputs": [
    {
     "name": "stdout",
     "output_type": "stream",
     "text": [
      "Packed Tuple: (10, 20, 30)\n"
     ]
    }
   ],
   "source": [
    "a = 10\n",
    "b = 20\n",
    "c = 30\n",
    "\n",
    "my_tuple = (a, b, c)\n",
    "\n",
    "# Print the packed tuple\n",
    "print(\"Packed Tuple:\", my_tuple)"
   ]
  },
  {
   "cell_type": "markdown",
   "id": "99a839a4-47fb-4ff0-a7ac-9709f5cfd6ac",
   "metadata": {},
   "source": [
    "# Nested List Problems:\n"
   ]
  },
  {
   "cell_type": "markdown",
   "id": "2cff6404-2540-4d1d-9f1f-fd119fd1306f",
   "metadata": {},
   "source": [
    "### 59. Nested List Element Access: Given a nested list, write a Python program to access and print specific elements from it.\n",
    "\n"
   ]
  },
  {
   "cell_type": "code",
   "execution_count": 63,
   "id": "e9d28cfb-3ced-456b-8043-9c1995f4d49d",
   "metadata": {},
   "outputs": [
    {
     "name": "stdout",
     "output_type": "stream",
     "text": [
      "Element at row 1, column 2: 5\n",
      "Element at row 2, column 3: 9\n"
     ]
    }
   ],
   "source": [
    "nested_list = [[1, 2, 3], [4, 5, 6], [7, 8, 9]]\n",
    "\n",
    "element_1 = nested_list[1][1]\n",
    "\n",
    "element_2 = nested_list[2][2]\n",
    "\n",
    "# Print the accessed elements\n",
    "print(\"Element at row 1, column 2:\", element_1)\n",
    "print(\"Element at row 2, column 3:\", element_2)\n"
   ]
  },
  {
   "cell_type": "markdown",
   "id": "b09e4a79-c141-4580-871f-0bc779a69022",
   "metadata": {},
   "source": [
    "### 60. Nested List Flattening: Write a Python program to flatten a nested list and convert it into a single-dimensional list.\n",
    "\n"
   ]
  },
  {
   "cell_type": "code",
   "execution_count": 64,
   "id": "1a9bc63e-b5bd-4067-86ae-b72d8deb42d3",
   "metadata": {},
   "outputs": [
    {
     "name": "stdout",
     "output_type": "stream",
     "text": [
      "[1, 2, 3, 4, 5, 6, 7, 8, 9]\n"
     ]
    }
   ],
   "source": [
    "nested_list = [[1, 2, 3], [4, 5, 6], [7, 8, 9]]\n",
    "\n",
    "Flatten_list=[item for sublist in nested_list for item in sublist ]\n",
    "print(Flatten_list)"
   ]
  },
  {
   "cell_type": "markdown",
   "id": "aa97d104-5fd1-4cdb-a991-92d9bcabc6ae",
   "metadata": {},
   "source": [
    "### Nested List Sorting: Given a nested list containing lists of integers, write a Python program to sort the sublists based on their lengths."
   ]
  },
  {
   "cell_type": "code",
   "execution_count": 65,
   "id": "1611db7a-c73f-4b81-b830-799804deb991",
   "metadata": {},
   "outputs": [
    {
     "name": "stdout",
     "output_type": "stream",
     "text": [
      "Sorted Nested List by Length: [[1], [8, 9], [3, 4, 5], [2, 3, 4, 5, 6]]\n"
     ]
    }
   ],
   "source": [
    "nested_list = [[3, 4, 5], [1], [8, 9], [2, 3, 4, 5, 6]]\n",
    "sorted_nested_list = sorted(nested_list, key=len)\n",
    "print(\"Sorted Nested List by Length:\", sorted_nested_list)"
   ]
  },
  {
   "cell_type": "markdown",
   "id": "b66652e1-d992-477d-bcd1-6f9b64be4342",
   "metadata": {},
   "source": [
    "### 62. List of Tuples Conversion: Given a nested list containing tuples of (x, y) coordinates, write a Python program to convert it into a list of x-coordinates and a list of y-coordinates.\n",
    "\n"
   ]
  },
  {
   "cell_type": "code",
   "execution_count": 66,
   "id": "4340ee41-7d3e-4aa3-ac79-526c2de6d6e7",
   "metadata": {},
   "outputs": [
    {
     "name": "stdout",
     "output_type": "stream",
     "text": [
      "List of x-coordinates: [1, 3, 5, 7]\n",
      "List of y-coordinates: [2, 4, 6, 8]\n"
     ]
    }
   ],
   "source": [
    "nested_list = [((1, 2), (3, 4)), ((5, 6), (7, 8))]\n",
    "x_coordibates=[]\n",
    "y_coordinates=[]\n",
    "\n",
    "for sublist in nested_list:\n",
    "    for (x, y) in sublist:\n",
    "        x_coordibates.append(x)\n",
    "        y_coordinates.append(y)\n",
    "\n",
    "print(\"List of x-coordinates:\", x_coordibates)\n",
    "print(\"List of y-coordinates:\", y_coordinates)"
   ]
  },
  {
   "cell_type": "markdown",
   "id": "d1c98a10-faa7-455a-a54f-c23e952812fa",
   "metadata": {},
   "source": [
    "### 63. Matrix Transpose: Write a Python program to transpose a given matrix represented as a nested list.\n",
    "\n"
   ]
  },
  {
   "cell_type": "code",
   "execution_count": 67,
   "id": "8837ac3e-157d-4eee-99e2-e2af1c98145a",
   "metadata": {},
   "outputs": [
    {
     "name": "stdout",
     "output_type": "stream",
     "text": [
      "[1, 2, 5]\n",
      "[2, 3, 6]\n",
      "[3, 4, 7]\n"
     ]
    }
   ],
   "source": [
    "a=[\n",
    "    [1,2,3],\n",
    "    [2,3,4],\n",
    "    [5,6,7],\n",
    "]\n",
    "\n",
    "result=[\n",
    "    [0,0,0],\n",
    "    [0,0,0],\n",
    "    [0,0,0],\n",
    "]\n",
    "\n",
    "for i in range(len(a)):\n",
    "    for j in range(len(a[0])):\n",
    "        result[j][i]=a[i][j]\n",
    "\n",
    "for r in result:\n",
    "    print(r)\n",
    "    "
   ]
  },
  {
   "cell_type": "markdown",
   "id": "461b46fd-cec3-4897-9b55-738ee34aac38",
   "metadata": {},
   "source": [
    "### 64. Nested List Concatenation: Given a list of nested lists, write a Python program to concatenate all the sublists into a single flat list.\n",
    "\n"
   ]
  },
  {
   "cell_type": "code",
   "execution_count": 68,
   "id": "264ebe83-c9e3-4647-aa31-9355c4af5f97",
   "metadata": {},
   "outputs": [
    {
     "name": "stdout",
     "output_type": "stream",
     "text": [
      "concatenated_list [1, 2, 3, 2, 3, 4, 5, 6, 7]\n"
     ]
    }
   ],
   "source": [
    "a=[[1,2,3],[2,3,4],[5,6,7]]\n",
    "concatenated_list=[item for sublist in a for item in sublist ]\n",
    "\n",
    "print(\"concatenated_list\", concatenated_list)"
   ]
  },
  {
   "cell_type": "markdown",
   "id": "78a2b17e-8145-497e-87fc-62abe697a256",
   "metadata": {},
   "source": [
    "### 65. Count Even Numbers: Write a Python program to count the number of even numbers in a nested list.\n",
    "\n"
   ]
  },
  {
   "cell_type": "code",
   "execution_count": 69,
   "id": "97056135-5833-4eff-8613-728d06c57d19",
   "metadata": {},
   "outputs": [
    {
     "name": "stdout",
     "output_type": "stream",
     "text": [
      "even_Count 4\n"
     ]
    }
   ],
   "source": [
    "nested_list=[[1,2,3],[2,3,4,5],[5,6,7]]\n",
    "flatted_list=[item for sublist in nested_list for item in sublist ]\n",
    "\n",
    "even_Count=0\n",
    "\n",
    "for i in flatted_list:\n",
    "    if i%2==0:\n",
    "        even_Count=even_Count+1\n",
    "print(\"even_Count\", even_Count)\n",
    "        \n",
    "\n"
   ]
  },
  {
   "cell_type": "markdown",
   "id": "54a67ef6-1f77-429b-b2e0-e7c5a67fa50e",
   "metadata": {},
   "source": [
    "### 66. Maximum Element in Nested List: Write a Python program to find the maximum element in a nested list of integers.\n",
    "\n"
   ]
  },
  {
   "cell_type": "code",
   "execution_count": 70,
   "id": "62b3091f-f7a9-415f-b944-819e6f77d5c5",
   "metadata": {},
   "outputs": [
    {
     "name": "stdout",
     "output_type": "stream",
     "text": [
      "7\n"
     ]
    }
   ],
   "source": [
    "nested_list=[[1,2,3],[2,3,4,5],[5,6,7]]\n",
    "flatten_list=[item for sublist in nested_list for item in sublist]\n",
    "maximum_element=max(flatten_list)\n",
    "print(maximum_element)"
   ]
  },
  {
   "cell_type": "markdown",
   "id": "bbf518c6-2af3-4454-bef7-7e11f7e8d260",
   "metadata": {},
   "source": [
    "### 67. Diagonal Sum of Matrix: Given a square matrix represented as a nested list, write a Python program to calculate the sum of the elements in the main diagonal.\n",
    "\n"
   ]
  },
  {
   "cell_type": "code",
   "execution_count": 71,
   "id": "eaf12b63-7cce-4cf9-bb05-f0d7c45158ff",
   "metadata": {},
   "outputs": [
    {
     "name": "stdout",
     "output_type": "stream",
     "text": [
      "diagonal_left_to_right_sum 12\n",
      "diagonal_right_to_left_sum 11\n"
     ]
    }
   ],
   "source": [
    "a=[\n",
    "[1, 2, 5],\n",
    "[2, 3, 6],\n",
    "[3, 4, 8]\n",
    "]\n",
    "\n",
    "diagonal_left_to_right_sum=0\n",
    "diagonal_right_to_left_sum=0\n",
    "\n",
    "for i in range(len(a)):\n",
    "    diagonal_left_to_right_sum+=a[i][i]\n",
    "    diagonal_right_to_left_sum+=a[i][len(a)-1-i]\n",
    "n\n",
    "print(\"diagonal_left_to_right_sum\", diagonal_left_to_right_sum)\n",
    "print(\"diagonal_right_to_left_sum\", diagonal_right_to_left_sum)"
   ]
  },
  {
   "cell_type": "markdown",
   "id": "636c3de8-e6bc-45f5-a696-1993b8f64978",
   "metadata": {},
   "source": [
    "### 68. Nested List Element Search: Write a Python program to search for a specific element in a nested list and return its position (row and column indices).\n",
    "\n"
   ]
  },
  {
   "cell_type": "code",
   "execution_count": 72,
   "id": "5cff7e6e-1d8a-4484-872c-cb72ace144f0",
   "metadata": {},
   "outputs": [
    {
     "name": "stdout",
     "output_type": "stream",
     "text": [
      "Element 5 found at row 1, column 1\n"
     ]
    }
   ],
   "source": [
    "nested_list = [\n",
    "    [1, 2, 3],\n",
    "    [4, 5, 6],\n",
    "    [7, 8, 9]\n",
    "]\n",
    "\n",
    "target = 5\n",
    "\n",
    "position = None\n",
    "\n",
    "for row_index, sublist in enumerate(nested_list):\n",
    "    if target in sublist:\n",
    "        col_index = sublist.index(target)\n",
    "        position = (row_index, col_index)\n",
    "        break  # Exit the loop once the element is found\n",
    "\n",
    "if position:\n",
    "    print(f\"Element {target} found at row {position[0]}, column {position[1]}\")\n",
    "else:\n",
    "    print(f\"Element {target} not found in the list\")"
   ]
  },
  {
   "cell_type": "markdown",
   "id": "a6ef81e0-8abf-46e5-99a5-89324e23fa5b",
   "metadata": {},
   "source": [
    "# Set Problems:"
   ]
  },
  {
   "cell_type": "markdown",
   "id": "f0bdab8e-269b-43d4-b034-91c4d7116074",
   "metadata": {},
   "source": [
    "### 69. Duplicate Removal: Write a Python program that takes a list of elements as input and creates a new set containing only the unique elements from the list.\n",
    "\n"
   ]
  },
  {
   "cell_type": "code",
   "execution_count": 73,
   "id": "62610212-fafd-49e5-9319-9be4161a0bba",
   "metadata": {},
   "outputs": [
    {
     "name": "stdout",
     "output_type": "stream",
     "text": [
      "{1, 2, 3, 4, 5}\n"
     ]
    }
   ],
   "source": [
    "input_list = [1, 2, 2, 3, 4, 4, 5, 5, 5]\n",
    "\n",
    "New_set=set(input_list)\n",
    "print(New_set)"
   ]
  },
  {
   "cell_type": "markdown",
   "id": "22a722cf-78a2-45b7-ba5a-18c072b80251",
   "metadata": {},
   "source": [
    "### 70. Set Intersection: Given two sets A and B, write a Python program to find their intersection and print the common elements.\n",
    "\n"
   ]
  },
  {
   "cell_type": "code",
   "execution_count": 74,
   "id": "92ceab1e-e47e-40e2-97cb-2653fe6c0de2",
   "metadata": {},
   "outputs": [
    {
     "name": "stdout",
     "output_type": "stream",
     "text": [
      "intersection {3, 4, 5}\n"
     ]
    }
   ],
   "source": [
    "A = {1, 2, 3, 4, 5}\n",
    "B = {3, 4, 5, 6, 7}\n",
    "\n",
    "intersection=A&B\n",
    "\n",
    "print(\"intersection\", intersection)"
   ]
  },
  {
   "cell_type": "code",
   "execution_count": 75,
   "id": "5e20e5aa-b3c0-48a6-ad33-053e827829b7",
   "metadata": {},
   "outputs": [
    {
     "name": "stdout",
     "output_type": "stream",
     "text": [
      "union {1, 2, 3, 4, 5, 6, 7}\n"
     ]
    }
   ],
   "source": [
    "A = {1, 2, 3, 4, 5}\n",
    "B = {3, 4, 5, 6, 7}\n",
    "\n",
    "union=A|B\n",
    "\n",
    "print(\"union\", union)"
   ]
  },
  {
   "cell_type": "markdown",
   "id": "bc538269-2656-4cb9-9d0b-b58799498a3c",
   "metadata": {},
   "source": [
    "### 72. Set Difference: Given two sets A and B, write a Python program to find the difference between set A and set B (i.e., elements present in A but not in B) and print the result.\n",
    "\n"
   ]
  },
  {
   "cell_type": "code",
   "execution_count": 76,
   "id": "33645687-6e25-4732-b745-fc9259be3427",
   "metadata": {},
   "outputs": [
    {
     "name": "stdout",
     "output_type": "stream",
     "text": [
      "Difference {1, 2}\n"
     ]
    }
   ],
   "source": [
    "A = {1, 2, 3, 4, 5}\n",
    "B = {3, 4, 5, 6, 7}\n",
    "\n",
    "Difference=A-B\n",
    "\n",
    "print(\"Difference\", Difference)"
   ]
  },
  {
   "cell_type": "markdown",
   "id": "67ac47c3-908f-4b18-8ee4-13d1b42cf16c",
   "metadata": {},
   "source": [
    "### 73. Set Symmetric Difference: Given two sets A and B, write a Python program to find the symmetric difference between the two sets (i.e., elements that are present in either set A or set B, but not in both) and print the result.\n",
    "\n"
   ]
  },
  {
   "cell_type": "code",
   "execution_count": 77,
   "id": "6c969604-f49b-4045-9515-09cebca77ac8",
   "metadata": {},
   "outputs": [
    {
     "name": "stdout",
     "output_type": "stream",
     "text": [
      "Symmetric_Difference {1, 2, 6, 7}\n"
     ]
    }
   ],
   "source": [
    "A = {1, 2, 3, 4, 5}\n",
    "B = {3, 4, 5, 6, 7}\n",
    "\n",
    "Symmetric_Difference=A^B\n",
    "\n",
    "print(\"Symmetric_Difference\", Symmetric_Difference)"
   ]
  },
  {
   "cell_type": "markdown",
   "id": "1ebdd352-d227-4bdf-a893-acff62d906aa",
   "metadata": {},
   "source": [
    "### 74. Set Operations: Given three sets A, B, and C, write a Python program to find and print the intersection of A and B, the union of B and C, and the difference between C and A.\n",
    "\n"
   ]
  },
  {
   "cell_type": "code",
   "execution_count": 78,
   "id": "1d8394f8-1efb-4adf-b1e9-6be9ff1c6c3d",
   "metadata": {},
   "outputs": [
    {
     "name": "stdout",
     "output_type": "stream",
     "text": [
      "Intersection_of_A_and_B:  {3, 4, 5}\n",
      "Union_of_B_and_C:  {3, 4, 5, 6, 7}\n",
      "Difference_of_C_and_A:  {1, 2, 6, 7}\n"
     ]
    }
   ],
   "source": [
    "A = {1, 2, 3, 4, 5}\n",
    "B = {3, 4, 5, 6, 7}\n",
    "C= {4 ,6 ,7 ,3 , 5}\n",
    "\n",
    "Intersection_of_A_and_B=A&B\n",
    "Union_of_B_and_C=B|C\n",
    "Difference_of_C_and_A=C^A\n",
    "\n",
    "print(\"Intersection_of_A_and_B: \", Intersection_of_A_and_B)\n",
    "print(\"Union_of_B_and_C: \", Union_of_B_and_C)\n",
    "print(\"Difference_of_C_and_A: \", Difference_of_C_and_A)"
   ]
  },
  {
   "cell_type": "markdown",
   "id": "c2cd0b12-7dda-446d-98e1-9f077738824c",
   "metadata": {},
   "source": [
    "### 75. Set Subset Check: Given two sets A and B, write a Python program to check if set A is a subset of set B and print the result.\n",
    "\n"
   ]
  },
  {
   "cell_type": "code",
   "execution_count": 79,
   "id": "41073cb2-9b0a-4f73-97ea-8dfcc17a2c4f",
   "metadata": {},
   "outputs": [
    {
     "name": "stdout",
     "output_type": "stream",
     "text": [
      "A is a subset of set B\n"
     ]
    }
   ],
   "source": [
    "A = {1, 2, 3}\n",
    "B = {1, 2, 3, 4, 5}\n",
    "\n",
    "if A.issubset(B):\n",
    "    print(\"A is a subset of set B\")\n",
    "else:\n",
    "    print(\"A is not a subset of set B\")"
   ]
  },
  {
   "cell_type": "markdown",
   "id": "1eee8140-59ff-4b89-9d54-0e095ad25820",
   "metadata": {},
   "source": [
    "### 76. Set Superset Check: Given two sets A and B, write a Python program to check if set A is a superset of set B and print the result.\n",
    "\n"
   ]
  },
  {
   "cell_type": "code",
   "execution_count": 80,
   "id": "27c48faf-2c1c-4be1-bc1d-7ab35442051b",
   "metadata": {},
   "outputs": [
    {
     "name": "stdout",
     "output_type": "stream",
     "text": [
      "A is a superset of set B\n"
     ]
    }
   ],
   "source": [
    "A = {1, 2, 3, 4, 5}\n",
    "B = {1, 2, 3}\n",
    "\n",
    "if A.issuperset(B):\n",
    "    print(\"A is a superset of set B\")\n",
    "else:\n",
    "    print(\"A is not a superset of set B\")"
   ]
  },
  {
   "cell_type": "markdown",
   "id": "100af157-1db3-435e-a189-9a58aa225d7b",
   "metadata": {},
   "source": [
    "### 77. Set Length Check: Write a Python program that takes a set as input and prints the number of elements in the set.\n",
    "\n"
   ]
  },
  {
   "cell_type": "code",
   "execution_count": 81,
   "id": "6d228602-5017-4bed-9e34-2574acdb5c88",
   "metadata": {},
   "outputs": [
    {
     "name": "stdout",
     "output_type": "stream",
     "text": [
      "Number of elements in the set: 5\n"
     ]
    }
   ],
   "source": [
    "my_set = {1, 2, 3, 4, 5}\n",
    "set_length = len(my_set)\n",
    "print(\"Number of elements in the set:\", set_length)"
   ]
  },
  {
   "cell_type": "markdown",
   "id": "7c8e6721-0af2-4d30-9e25-013c562db9ab",
   "metadata": {},
   "source": [
    "### 76. Set Membership Test: Write a Python program that takes an element as input and checks if it exists in a given set. Print “Found” if the element is present and “Not Found” otherwise.\n",
    "\n"
   ]
  },
  {
   "cell_type": "code",
   "execution_count": 82,
   "id": "955ba018-b5af-4fb6-b2bd-1dd80c99f5d8",
   "metadata": {},
   "outputs": [
    {
     "name": "stdin",
     "output_type": "stream",
     "text": [
      " 2\n"
     ]
    },
    {
     "name": "stdout",
     "output_type": "stream",
     "text": [
      "Found\n"
     ]
    }
   ],
   "source": [
    "n=int(input())\n",
    "my_set = {1, 2, 3, 4, 5}\n",
    "\n",
    "if n in my_set:\n",
    "    print(\"Found\")\n",
    "else:\n",
    "    print(\"Not Found\")"
   ]
  },
  {
   "cell_type": "markdown",
   "id": "bd8be924-0042-4d8f-a7f2-54b39ee57368",
   "metadata": {},
   "source": [
    "# Dictionary Problems:"
   ]
  },
  {
   "cell_type": "markdown",
   "id": "5ff2b540-abdb-417c-b01e-f18a8f435293",
   "metadata": {},
   "source": [
    "### 77. Dictionary Manipulation: Given a dictionary with student names as keys and their corresponding scores as values, write a Python program to add a new student to the dictionary and update the score of an existing student.\n",
    "\n"
   ]
  },
  {
   "cell_type": "code",
   "execution_count": 83,
   "id": "23823fc0-362d-4938-a0cd-d29d2a3326ce",
   "metadata": {},
   "outputs": [
    {
     "name": "stdout",
     "output_type": "stream",
     "text": [
      "Original Scores:  {'karim': 85, 'rahim': 90, 'Motin': 88}\n",
      "Updated Dictionary:  {'karim': 85, 'rahim': 90, 'Motin': 92, 'Hatem': 98}\n"
     ]
    }
   ],
   "source": [
    "\n",
    "students_scores={\n",
    "    \"karim\": 85, \n",
    "    \"rahim\": 90,\n",
    "    \"Motin\": 88\n",
    "}\n",
    "\n",
    "print(\"Original Scores: \", students_scores)\n",
    "\n",
    "#adding new students and update a students result\n",
    "students_scores.update({\n",
    "    \"Hatem\":98,\n",
    "    \"Motin\":92,\n",
    "    \n",
    "})\n",
    "\n",
    "print(\"Updated Dictionary: \", students_scores)"
   ]
  },
  {
   "cell_type": "markdown",
   "id": "111afc35-d46a-4a2f-98cd-d50d2e9fa610",
   "metadata": {},
   "source": [
    "### 78. Dictionary Keys and Values: Write a Python program that takes a dictionary as input and prints all the keys and values in separate lines.\n",
    "\n"
   ]
  },
  {
   "cell_type": "code",
   "execution_count": 84,
   "id": "6d6a7143-fad5-4ad1-aa80-c2e9237a8df4",
   "metadata": {},
   "outputs": [
    {
     "name": "stdout",
     "output_type": "stream",
     "text": [
      "keys:\n",
      "karim\n",
      "rahim\n",
      "Motin\n",
      "\n",
      "Values:\n",
      "85\n",
      "90\n",
      "88\n"
     ]
    }
   ],
   "source": [
    "students_scores={\n",
    "    \"karim\": 85, \n",
    "    \"rahim\": 90,\n",
    "    \"Motin\": 88\n",
    "}\n",
    "\n",
    "print(\"keys:\")\n",
    "for key in students_scores.keys():\n",
    "    print(key)\n",
    "\n",
    "print(\"\\nValues:\")\n",
    "for value in students_scores.values():\n",
    "    print(value)"
   ]
  },
  {
   "cell_type": "markdown",
   "id": "17db0320-a9e3-4f42-b029-91e5ad9630ac",
   "metadata": {},
   "source": [
    "### 79. Dictionary Length: Write a Python program to calculate and print the number of key-value pairs in a given dictionary.\n",
    "\n"
   ]
  },
  {
   "cell_type": "code",
   "execution_count": 85,
   "id": "ea161a19-14a8-401a-8f71-20471d9241b8",
   "metadata": {},
   "outputs": [
    {
     "name": "stdout",
     "output_type": "stream",
     "text": [
      "Number of key-value pairs in the dictionary: 3\n"
     ]
    }
   ],
   "source": [
    "students_scores={\n",
    "    \"karim\": 85, \n",
    "    \"rahim\": 90,\n",
    "    \"Motin\": 88\n",
    "}\n",
    "\n",
    "num_pairs = len(students_scores)\n",
    "\n",
    "print(\"Number of key-value pairs in the dictionary:\", num_pairs)"
   ]
  },
  {
   "cell_type": "markdown",
   "id": "a0241dd5-0f01-41af-8bc6-675736b50ecd",
   "metadata": {},
   "source": [
    "### 80. Dictionary Value Search: Given a dictionary of items and their prices, write a Python program to search for an item based on its price and print the item’s name.\n",
    "\n"
   ]
  },
  {
   "cell_type": "code",
   "execution_count": 86,
   "id": "1fdbbf67-971a-48b4-b121-d227a3e422a0",
   "metadata": {},
   "outputs": [
    {
     "name": "stdin",
     "output_type": "stream",
     "text": [
      "Enter the price to search for:  150\n"
     ]
    },
    {
     "name": "stdout",
     "output_type": "stream",
     "text": [
      "Item with price 150.0 is Headphones\n"
     ]
    }
   ],
   "source": [
    "items_prices = {\n",
    "    \"Laptop\": 1200,\n",
    "    \"Smartphone\": 800,\n",
    "    \"Tablet\": 300,\n",
    "    \"Headphones\": 150\n",
    "}\n",
    "search_price = float(input(\"Enter the price to search for: \"))\n",
    "item_found = False\n",
    "for item, price in items_prices.items():\n",
    "    if price == search_price:\n",
    "        print(\"Item with price\", search_price, \"is\", item)\n",
    "        item_found = True\n",
    "        break\n",
    "if not item_found:\n",
    "    print(\"No item found with the price\", search_price)\n"
   ]
  },
  {
   "cell_type": "markdown",
   "id": "54c44dc9-8f24-4faf-9fed-928eae3f2cba",
   "metadata": {},
   "source": [
    "### 81. Dictionary Merging: Given two dictionaries, write a Python program to merge them into a single dictionary and print the result.\n",
    "\n"
   ]
  },
  {
   "cell_type": "code",
   "execution_count": 87,
   "id": "d8f354d4-1b36-41ef-8f39-5a20e12512af",
   "metadata": {},
   "outputs": [
    {
     "name": "stdout",
     "output_type": "stream",
     "text": [
      "Merged dictionary: {'Rahim': 85, 'Karim': 92, 'Motin': 78, 'Arif': 88}\n"
     ]
    }
   ],
   "source": [
    "dict1 = {\"Rahim\": 85, \"Karim\": 92}\n",
    "dict2 = {\"Motin\": 78, \"Arif\": 88}\n",
    "\n",
    "dict1.update(dict2)\n",
    "print(\"Merged dictionary:\", dict1)\n"
   ]
  },
  {
   "cell_type": "markdown",
   "id": "a745183a-8342-424e-b3ff-461b999991af",
   "metadata": {},
   "source": [
    "### 82. Dictionary Key Removal: Given a dictionary of items and their quantities, write a Python program to remove a specific item from the dictionary based on user input.\n",
    "\n"
   ]
  },
  {
   "cell_type": "code",
   "execution_count": 88,
   "id": "cf162834-8303-4cc2-a202-3168a7d0bcd5",
   "metadata": {},
   "outputs": [
    {
     "name": "stdout",
     "output_type": "stream",
     "text": [
      "original_dictionary:  {'Apples': 50, 'Bananas': 30, 'Oranges': 40, 'Grapes': 20}\n"
     ]
    },
    {
     "name": "stdin",
     "output_type": "stream",
     "text": [
      "Enter the item you want to remove:  Grapes\n"
     ]
    },
    {
     "name": "stdout",
     "output_type": "stream",
     "text": [
      "Grapes has been removed.\n",
      "Updated dictionary: {'Apples': 50, 'Bananas': 30, 'Oranges': 40}\n"
     ]
    }
   ],
   "source": [
    "items_quantities = {\n",
    "    \"Apples\": 50,\n",
    "    \"Bananas\": 30,\n",
    "    \"Oranges\": 40,\n",
    "    \"Grapes\": 20\n",
    "}\n",
    "print(\"original_dictionary: \", items_quantities)\n",
    "item_to_remove = input(\"Enter the item you want to remove: \")\n",
    "if item_to_remove in items_quantities:\n",
    "    items_quantities.pop(item_to_remove)\n",
    "    print(f\"{item_to_remove} has been removed.\")\n",
    "else:\n",
    "    print(f\"{item_to_remove} not found.\")\n",
    "\n",
    "print(\"Updated dictionary:\", items_quantities)\n"
   ]
  },
  {
   "cell_type": "markdown",
   "id": "cc7a5423-853a-48b9-bde8-ff35e3005d0c",
   "metadata": {},
   "source": [
    "### 83. Dictionary Sorting: Given a dictionary with names as keys and corresponding ages as values, write a Python program to sort the dictionary based on age in ascending order.\n",
    "\n"
   ]
  },
  {
   "cell_type": "code",
   "execution_count": 89,
   "id": "97ce258f-0ff7-4e1a-837c-1d33a775f528",
   "metadata": {},
   "outputs": [
    {
     "name": "stdout",
     "output_type": "stream",
     "text": [
      "Dictionary sorted by age: {'Motin': 22, 'Karim': 25, 'Arif': 28, 'Rahim': 30}\n"
     ]
    }
   ],
   "source": [
    "names_ages = {\n",
    "    \"Karim\": 25,\n",
    "    \"Rahim\": 30,\n",
    "    \"Motin\": 22,\n",
    "    \"Arif\": 28\n",
    "}\n",
    "sorted_dict = dict(sorted(names_ages.items(), key=lambda item: item[1]))\n",
    "\n",
    "print(\"Dictionary sorted by age:\", sorted_dict)"
   ]
  },
  {
   "cell_type": "markdown",
   "id": "afa6d038-8798-43ca-b6a7-27e653219da5",
   "metadata": {},
   "source": [
    "### 84. Dictionary Frequency Count: Write a Python program that takes a string as input and creates a dictionary containing each character as a key and its frequency as the value.\n",
    "\n"
   ]
  },
  {
   "cell_type": "code",
   "execution_count": 90,
   "id": "f975b079-984e-4d49-b25f-55f9edee076e",
   "metadata": {},
   "outputs": [
    {
     "name": "stdin",
     "output_type": "stream",
     "text": [
      "Enter a string:  sourav\n"
     ]
    },
    {
     "name": "stdout",
     "output_type": "stream",
     "text": [
      "Character frequency: {'s': 1, 'o': 1, 'u': 1, 'r': 1, 'a': 1, 'v': 1}\n"
     ]
    }
   ],
   "source": [
    "input_string = input(\"Enter a string: \")\n",
    "char_frequency = {}\n",
    "for char in input_string:\n",
    "    if char in char_frequency:\n",
    "        char_frequency[char] += 1\n",
    "    else:\n",
    "        char_frequency[char] = 1\n",
    "\n",
    "print(\"Character frequency:\", char_frequency)"
   ]
  },
  {
   "cell_type": "markdown",
   "id": "cc645ac1-cc97-4c0e-86cd-84018aaa212c",
   "metadata": {},
   "source": [
    "### 85. Dictionary Comprehension: Given a list of integers, write a Python program to create a dictionary where the keys are the elements from the list, and the values are their squares.\n",
    "\n"
   ]
  },
  {
   "cell_type": "code",
   "execution_count": 91,
   "id": "bdfbfb6f-532e-479b-ba8d-1dc4bddd605a",
   "metadata": {},
   "outputs": [
    {
     "name": "stdout",
     "output_type": "stream",
     "text": [
      "Square Dictionary:  {1: 1, 2: 4, 3: 9, 4: 16, 5: 25}\n"
     ]
    }
   ],
   "source": [
    "numbers = [1, 2, 3, 4, 5]\n",
    "squares_dict = {num: num**2 for num in numbers}\n",
    "print(\"Square Dictionary: \", squares_dict)"
   ]
  },
  {
   "cell_type": "markdown",
   "id": "f1d83f38-5f4f-46ee-8219-b1452ca0c047",
   "metadata": {},
   "source": [
    "### 86. Dictionary Key Check: Write a Python program that takes a key as input and checks if it exists in a given dictionary. Print “Key Found” if the key is present and “Key Not Found” otherwise.\n",
    "\n"
   ]
  },
  {
   "cell_type": "code",
   "execution_count": 92,
   "id": "34a8f59d-9320-4aba-9647-a8fc165125b4",
   "metadata": {},
   "outputs": [
    {
     "name": "stdin",
     "output_type": "stream",
     "text": [
      " Motin\n"
     ]
    },
    {
     "name": "stdout",
     "output_type": "stream",
     "text": [
      "Found\n"
     ]
    }
   ],
   "source": [
    "names_ages = {\n",
    "    \"Karim\": 25,\n",
    "    \"Rahim\": 30,\n",
    "    \"Motin\": 22,\n",
    "    \"Arif\": 28\n",
    "}\n",
    "\n",
    "key_input=input()\n",
    "if key_input in names_ages:\n",
    "    print(\"Found\")\n",
    "else:\n",
    "    print(\"Not Found\")"
   ]
  },
  {
   "cell_type": "markdown",
   "id": "edce5be4-6573-4121-9262-c2a7b69e29a5",
   "metadata": {},
   "source": [
    "# Nested Dictionary Problems:\n"
   ]
  },
  {
   "cell_type": "markdown",
   "id": "b90b9246-f04e-4a0b-b533-adf4a6773c7a",
   "metadata": {},
   "source": [
    "### 87. Access Nested Dictionary: Given a nested dictionary containing student details, write a Python program to access and print specific information such as a student’s name, age, and address.\n",
    "\n"
   ]
  },
  {
   "cell_type": "code",
   "execution_count": 93,
   "id": "7613c33f-f8da-4d19-8f59-0c7abb1fdd5c",
   "metadata": {},
   "outputs": [
    {
     "name": "stdout",
     "output_type": "stream",
     "text": [
      "Name: Motin\n",
      "Age: 40\n",
      "address: Rangpur\n"
     ]
    }
   ],
   "source": [
    "student_details={\n",
    "    \"student1\":{\n",
    "        \"Name\": \"Karim\",\n",
    "        \"Age\":34,\n",
    "        \"address\": \"Dhaka\",\n",
    "    },\n",
    "     \"student2\":{\n",
    "        \"Name\": \"Rahim\",\n",
    "        \"Age\": 37,\n",
    "        \"address\": \"Bogura\",\n",
    "    },\n",
    "    \"student3\":{\n",
    "        \"Name\": \"Motin\",\n",
    "        \"Age\": 40,\n",
    "        \"address\": \"Rangpur\",\n",
    "    },\n",
    "    \"student4\":{\n",
    "        \"Name\": \"Arif\",\n",
    "        \"Age\": 45,\n",
    "        \"address\": \"Gazipur\",\n",
    "    },\n",
    "}\n",
    "\n",
    "student_key=\"student3\"\n",
    "if student_key in student_details:\n",
    "    print(f\"Name: {student_details[student_key]['Name']}\")\n",
    "    print(f\"Age: {student_details[student_key]['Age']}\")\n",
    "    print(f\"address: {student_details[student_key]['address']}\")\n",
    "else:\n",
    "    print(f\"{student_key} not found in the dictionary\")"
   ]
  },
  {
   "cell_type": "markdown",
   "id": "783da618-1ea8-468a-899f-7ddefbb51e02",
   "metadata": {},
   "source": [
    "### 88. Nested Dictionary Length: Write a Python program to calculate and print the total number of key-value pairs in a nested dictionary.\n",
    "\n"
   ]
  },
  {
   "cell_type": "code",
   "execution_count": 94,
   "id": "8e161870-3a11-46a7-9b31-9451cd78e2ca",
   "metadata": {},
   "outputs": [
    {
     "name": "stdout",
     "output_type": "stream",
     "text": [
      "Total number of key-value pairs: 12\n"
     ]
    }
   ],
   "source": [
    "student_details={\n",
    "    \"student1\":{\n",
    "        \"Name\": \"Karim\",\n",
    "        \"Age\":34,\n",
    "        \"address\": \"Dhaka\",\n",
    "    },\n",
    "     \"student2\":{\n",
    "        \"Name\": \"Rahim\",\n",
    "        \"Age\": 37,\n",
    "        \"address\": \"Bogura\",\n",
    "    },\n",
    "    \"student3\":{\n",
    "        \"Name\": \"Motin\",\n",
    "        \"Age\": 40,\n",
    "        \"address\": \"Rangpur\",\n",
    "    },\n",
    "    \"student4\":{\n",
    "        \"Name\": \"Arif\",\n",
    "        \"Age\": 45,\n",
    "        \"address\": \"Gazipur\",\n",
    "    },\n",
    "}\n",
    "\n",
    "Total_pairs=0\n",
    "\n",
    "for student in student_details.values():\n",
    "    Total_pairs+=len(student)\n",
    "    \n",
    "print(\"Total number of key-value pairs:\", Total_pairs)"
   ]
  },
  {
   "cell_type": "markdown",
   "id": "ff51d39b-87be-4087-ba18-d1e994b3a660",
   "metadata": {},
   "source": [
    "### 89. Nested Dictionary Update: Given a nested dictionary of employee details, write a Python program to update an employee’s salary based on their employee ID.\n",
    "\n"
   ]
  },
  {
   "cell_type": "code",
   "execution_count": 95,
   "id": "334ba1ae-e156-4b62-bc71-cd4c2cfaf35d",
   "metadata": {},
   "outputs": [
    {
     "name": "stdin",
     "output_type": "stream",
     "text": [
      "Enter employee ID:  101\n",
      "Enter the new salary:  55000\n"
     ]
    },
    {
     "name": "stdout",
     "output_type": "stream",
     "text": [
      "Updated employee details: {101: {'name': 'Karim', 'age': 30, 'salary': 50000}, 102: {'name': 'Rahim', 'age': 35, 'salary': 60000}, 103: {'name': 'Motin', 'age': 28, 'salary': 55000}}\n"
     ]
    }
   ],
   "source": [
    "employees = {\n",
    "    101: {\n",
    "        \"name\": \"Karim\",\n",
    "        \"age\": 30,\n",
    "        \"salary\": 50000\n",
    "    },\n",
    "    102: {\n",
    "        \"name\": \"Rahim\",\n",
    "        \"age\": 35,\n",
    "        \"salary\": 60000\n",
    "    },\n",
    "    103: {\n",
    "        \"name\": \"Motin\",\n",
    "        \"age\": 28,\n",
    "        \"salary\": 55000\n",
    "    }\n",
    "}\n",
    "\n",
    "def update_salary(employee_id, new_salary):\n",
    "    if employee_id in employees:\n",
    "        employees[employee_id]['salary'] = new_salary\n",
    "        print(f\"Salary updated for Employee ID {employee_id}.\")\n",
    "    else:\n",
    "        print(f\"Employee ID {employee_id} not found.\")\n",
    "\n",
    "emp_id = int(input(\"Enter employee ID: \"))\n",
    "new_salary = float(input(\"Enter the new salary: \"))\n",
    "\n",
    "print(\"Updated employee details:\", employees)"
   ]
  },
  {
   "cell_type": "markdown",
   "id": "97e72484-2293-42f2-b6f5-5d542732648d",
   "metadata": {},
   "source": [
    "### 90. Nested Dictionary Sorting: Given a nested dictionary containing product details (product name, price, and quantity), write a Python program to sort the products based on their prices in ascending order.\n",
    "\n"
   ]
  },
  {
   "cell_type": "code",
   "execution_count": 96,
   "id": "9eb720ad-7cfa-4496-a956-cee097f1f8ea",
   "metadata": {},
   "outputs": [
    {
     "name": "stdout",
     "output_type": "stream",
     "text": [
      "Products sorted by price:\n",
      "Product2: {'name': 'Phone', 'price': 500, 'quantity': 10}\n",
      "Product3: {'name': 'Tablet', 'price': 750, 'quantity': 7}\n",
      "Product1: {'name': 'Laptop', 'price': 1000, 'quantity': 5}\n"
     ]
    }
   ],
   "source": [
    "products = {\n",
    "    \"Product1\": {\n",
    "        \"name\": \"Laptop\",\n",
    "        \"price\": 1000,\n",
    "        \"quantity\": 5\n",
    "    },\n",
    "    \"Product2\": {\n",
    "        \"name\": \"Phone\",\n",
    "        \"price\": 500,\n",
    "        \"quantity\": 10\n",
    "    },\n",
    "    \"Product3\": {\n",
    "        \"name\": \"Tablet\",\n",
    "        \"price\": 750,\n",
    "        \"quantity\": 7\n",
    "    }\n",
    "}\n",
    "sorted_products = dict(sorted(products.items(), key=lambda item: item[1]['price']))\n",
    "\n",
    "print(\"Products sorted by price:\")\n",
    "for product, details in sorted_products.items():\n",
    "    print(f\"{product}: {details}\")\n"
   ]
  },
  {
   "cell_type": "markdown",
   "id": "afcc3dc9-59d0-4e33-a9f3-cf48f3d257c2",
   "metadata": {},
   "source": [
    "### 91. Nested Dictionary Key Search: Write a Python program that takes a key as input and searches for it in a nested dictionary. If found, print the corresponding value, otherwise, print “Key Not Found.”\n",
    "\n"
   ]
  },
  {
   "cell_type": "code",
   "execution_count": 97,
   "id": "8836991d-efaf-44cf-8b9e-d5fbc7460046",
   "metadata": {},
   "outputs": [
    {
     "name": "stdin",
     "output_type": "stream",
     "text": [
      "Enter the key you want to search for:  Product3\n"
     ]
    },
    {
     "name": "stdout",
     "output_type": "stream",
     "text": [
      "Key Not Found\n"
     ]
    }
   ],
   "source": [
    "products = {\n",
    "    \"Product1\": {\n",
    "        \"name\": \"Laptop\",\n",
    "        \"price\": 1000,\n",
    "        \"quantity\": 5\n",
    "    },\n",
    "    \"Product2\": {\n",
    "        \"name\": \"Phone\",\n",
    "        \"price\": 500,\n",
    "        \"quantity\": 10\n",
    "    },\n",
    "    \"Product3\": {\n",
    "        \"name\": \"Tablet\",\n",
    "        \"price\": 750,\n",
    "        \"quantity\": 7\n",
    "    }\n",
    "}\n",
    "\n",
    "key_to_search = input(\"Enter the key you want to search for: \")\n",
    "\n",
    "found = False\n",
    "\n",
    "for product, details in products.items():\n",
    "    if key_to_search in details:\n",
    "        print(f\"Key found! {key_to_search}: {details[key_to_search]}\")\n",
    "        found = True\n",
    "        break\n",
    "\n",
    "if not found:\n",
    "    print(\"Key Not Found\")\n"
   ]
  },
  {
   "cell_type": "markdown",
   "id": "bdc4f4de-6e39-4ff9-b16c-639b05ea7e76",
   "metadata": {},
   "source": [
    "# Break & Continue: \n"
   ]
  },
  {
   "cell_type": "markdown",
   "id": "101df223-9c8b-4d3a-bbc9-ff714817e6a6",
   "metadata": {},
   "source": [
    "### 92. Prime Number Checker: Write a Python program that takes a number as input and determines if it is a prime number or not. Use a `for` loop to check for factors. If a factor is found, `break` out of the loop.\n",
    "\n"
   ]
  },
  {
   "cell_type": "code",
   "execution_count": 98,
   "id": "eca4e49f-387d-4003-b12f-e9fbf8335d0a",
   "metadata": {},
   "outputs": [
    {
     "name": "stdin",
     "output_type": "stream",
     "text": [
      "Enter the value of n:  5\n"
     ]
    },
    {
     "name": "stdout",
     "output_type": "stream",
     "text": [
      "5 is a prime number\n"
     ]
    }
   ],
   "source": [
    "n=int(input(\"Enter the value of n: \"))\n",
    "if n<2:\n",
    "    print(f\"{n} is not a prime number\")\n",
    "else:\n",
    "    is_prime = True\n",
    "    for i in range(2, int(n**0.5)+1):\n",
    "        if n%2==0:\n",
    "            is_prime=False\n",
    "            break\n",
    "\n",
    "if is_prime: \n",
    "    print(f\"{n} is a prime number\")\n",
    "else:\n",
    "    print(f\"{n} is a not a prime number\")       "
   ]
  },
  {
   "cell_type": "markdown",
   "id": "408278b8-43ac-4292-ba92-f643c0d67810",
   "metadata": {},
   "source": [
    "### 93. Even Number Printer: Write a Python program to print all even numbers from 1 to 20. Use a `for` loop and `continue` to skip odd numbers.\n",
    "\n"
   ]
  },
  {
   "cell_type": "code",
   "execution_count": 99,
   "id": "d12d7db8-7a25-4774-93d1-a17fb87c4146",
   "metadata": {},
   "outputs": [
    {
     "name": "stdin",
     "output_type": "stream",
     "text": [
      "Enter the value of n:  5\n"
     ]
    },
    {
     "name": "stdout",
     "output_type": "stream",
     "text": [
      "1 3 5 "
     ]
    }
   ],
   "source": [
    "n=int(input(\"Enter the value of n: \"))\n",
    "\n",
    "for i in range(0, n+1):\n",
    "    if i%2==0:\n",
    "        continue\n",
    "    print(i, end=' ')\n",
    "    "
   ]
  },
  {
   "cell_type": "markdown",
   "id": "4d77ca35-9b28-4033-b697-96f8df7e1ee0",
   "metadata": {},
   "source": [
    "### 94. Password Validator: Write a Python program that takes a password as input and checks if it meets the following criteria: at least 8 characters long, contains both uppercase and lowercase letters, and has at least one digit. If the password is valid, print “Password accepted.” If not, use `continue` to prompt the user to enter a valid password.\n",
    "\n"
   ]
  },
  {
   "cell_type": "code",
   "execution_count": 100,
   "id": "2a9dc7cc-864a-42fa-b39b-e0edac7d4269",
   "metadata": {},
   "outputs": [
    {
     "name": "stdin",
     "output_type": "stream",
     "text": [
      "Enter a password:  Md781@781\n"
     ]
    },
    {
     "name": "stdout",
     "output_type": "stream",
     "text": [
      "Password accepted.\n"
     ]
    }
   ],
   "source": [
    "password = input(\"Enter a password: \")\n",
    "if len(password) < 8:\n",
    "    print(\"Password must be at least 8 characters long.\")\n",
    "else:\n",
    "    has_upper = any(char.isupper() for char in password)\n",
    "    has_lower = any(char.islower() for char in password)\n",
    "    has_digit = any(char.isdigit() for char in password)\n",
    "if has_upper and has_lower and has_digit:\n",
    "    print(\"Password accepted.\")\n",
    "else:\n",
    "    print(\"Password must contain both uppercase and lowercase letters, and at least one digit.\")"
   ]
  },
  {
   "cell_type": "markdown",
   "id": "a0050a82-97f4-436a-aaf3-c5bf7077208a",
   "metadata": {},
   "source": [
    "### 95. Divisible by 3 or 5: Write a Python program to print all numbers from 1 to 50 that are divisible by either 3 or 5. Use a `for` loop and `continue` to skip numbers that are not divisible by either 3 or 5.\n",
    "\n"
   ]
  },
  {
   "cell_type": "code",
   "execution_count": 101,
   "id": "061142be-3c88-46b2-b18d-b3f757abebc6",
   "metadata": {},
   "outputs": [
    {
     "name": "stdout",
     "output_type": "stream",
     "text": [
      "3 5 6 9 10 12 15 18 20 21 24 25 27 30 33 35 36 39 40 42 45 48 "
     ]
    }
   ],
   "source": [
    "for i in range (1,50):\n",
    "    if i%3!=0 and i%5!=0:\n",
    "        continue\n",
    "\n",
    "    print(i, end=' ')\n",
    "        \n",
    "    "
   ]
  },
  {
   "cell_type": "markdown",
   "id": "b137b18e-ebe7-42d1-95ef-027ba71631c7",
   "metadata": {},
   "source": [
    "### 96. Positive Number Sum: Write a Python program that takes positive numbers as input until a negative number is entered. Then, calculate and print the sum of all positive numbers entered. Use a `while` loop and `break` to exit the loop when a negative number is encountered.\n",
    "\n"
   ]
  },
  {
   "cell_type": "code",
   "execution_count": 102,
   "id": "8e8aeb73-5c9a-489c-96d2-a1f3003525c7",
   "metadata": {},
   "outputs": [
    {
     "name": "stdin",
     "output_type": "stream",
     "text": [
      "Enter a positive number (or a negative number to stop):  -6\n"
     ]
    },
    {
     "name": "stdout",
     "output_type": "stream",
     "text": [
      "The sum of all positive numbers entered is: 0\n"
     ]
    }
   ],
   "source": [
    "total_sum = 0\n",
    "\n",
    "while True:\n",
    "    number = float(input(\"Enter a positive number (or a negative number to stop): \"))\n",
    "    \n",
    "    if number < 0:\n",
    "        break  # Exit the loop if a negative number is entered\n",
    "    \n",
    "    total_sum += number\n",
    "print(\"The sum of all positive numbers entered is:\", total_sum)"
   ]
  },
  {
   "cell_type": "markdown",
   "id": "f1e256c4-94b0-4134-bd71-003ec6289434",
   "metadata": {},
   "source": [
    "### 97. Word Palindrome Checker: Write a Python program that takes a word as input and checks if it is a palindrome (reads the same forwards and backward). Use `continue` to skip checking the word if its length is less than 3 characters.\n",
    "\n"
   ]
  },
  {
   "cell_type": "code",
   "execution_count": 103,
   "id": "3f83b3ad-09a5-4a08-bc48-9e03212d5da8",
   "metadata": {},
   "outputs": [
    {
     "name": "stdin",
     "output_type": "stream",
     "text": [
      "Enter a word:  sourav\n"
     ]
    },
    {
     "name": "stdout",
     "output_type": "stream",
     "text": [
      "'sourav' is not a palindrome.\n"
     ]
    }
   ],
   "source": [
    "word = input(\"Enter a word: \")\n",
    "\n",
    "for _ in range(1):\n",
    "    if len(word) < 3:\n",
    "        print(\"Word is too short.\")\n",
    "        continue\n",
    "\n",
    "    if word == word[::-1]:\n",
    "        print(f\"'{word}' is a palindrome.\")\n",
    "    else:\n",
    "        print(f\"'{word}' is not a palindrome.\")\n"
   ]
  },
  {
   "cell_type": "markdown",
   "id": "18c6dd06-666d-4c69-8ada-47959e0697ac",
   "metadata": {},
   "source": [
    "###  98. Odd Number Finder: Write a Python program to find the first odd number from a list of integers. Use a `for` loop and `break` to stop the loop when the first odd number is found.\n",
    "\n"
   ]
  },
  {
   "cell_type": "code",
   "execution_count": 104,
   "id": "3f892cc7-ad1e-4aaa-878b-ceaed1f64d29",
   "metadata": {},
   "outputs": [
    {
     "name": "stdout",
     "output_type": "stream",
     "text": [
      "The first odd number is: 15\n"
     ]
    }
   ],
   "source": [
    "numbers = [4, 8, 10, 15, 18, 20, 21]\n",
    "for num in numbers:\n",
    "    if num % 2 != 0: \n",
    "        print(f\"The first odd number is: {num}\")\n",
    "        break \n"
   ]
  },
  {
   "cell_type": "markdown",
   "id": "5ea41abc-c0aa-4b23-9e84-d8d904e282d8",
   "metadata": {},
   "source": [
    "### 99. Number Guessing Game: Write a Python program that generates a random number between 1 and 100 and lets the user guess the number. Use a `while` loop, `break` when the correct number is guessed, and `continue` to keep prompting the user until they guess correctly.\n",
    "\n"
   ]
  },
  {
   "cell_type": "code",
   "execution_count": 105,
   "id": "f689643a-7b71-4af6-9cb9-477855154316",
   "metadata": {},
   "outputs": [
    {
     "name": "stdout",
     "output_type": "stream",
     "text": [
      "Guess the number between 1 and 100!\n"
     ]
    },
    {
     "name": "stdin",
     "output_type": "stream",
     "text": [
      "Enter your guess:  67\n"
     ]
    },
    {
     "name": "stdout",
     "output_type": "stream",
     "text": [
      "Too low! Try again.\n"
     ]
    },
    {
     "name": "stdin",
     "output_type": "stream",
     "text": [
      "Enter your guess:  80\n"
     ]
    },
    {
     "name": "stdout",
     "output_type": "stream",
     "text": [
      "Too low! Try again.\n"
     ]
    },
    {
     "name": "stdin",
     "output_type": "stream",
     "text": [
      "Enter your guess:  90\n"
     ]
    },
    {
     "name": "stdout",
     "output_type": "stream",
     "text": [
      "Too low! Try again.\n"
     ]
    },
    {
     "name": "stdin",
     "output_type": "stream",
     "text": [
      "Enter your guess:  95\n"
     ]
    },
    {
     "name": "stdout",
     "output_type": "stream",
     "text": [
      "Too low! Try again.\n"
     ]
    },
    {
     "name": "stdin",
     "output_type": "stream",
     "text": [
      "Enter your guess:  96\n"
     ]
    },
    {
     "name": "stdout",
     "output_type": "stream",
     "text": [
      "Too low! Try again.\n"
     ]
    },
    {
     "name": "stdin",
     "output_type": "stream",
     "text": [
      "Enter your guess:  97\n"
     ]
    },
    {
     "name": "stdout",
     "output_type": "stream",
     "text": [
      "Too low! Try again.\n"
     ]
    },
    {
     "name": "stdin",
     "output_type": "stream",
     "text": [
      "Enter your guess:  98\n"
     ]
    },
    {
     "name": "stdout",
     "output_type": "stream",
     "text": [
      "Too low! Try again.\n"
     ]
    },
    {
     "name": "stdin",
     "output_type": "stream",
     "text": [
      "Enter your guess:  99\n"
     ]
    },
    {
     "name": "stdout",
     "output_type": "stream",
     "text": [
      "Congratulations! You guessed the correct number.\n"
     ]
    }
   ],
   "source": [
    "import random\n",
    "random_number = random.randint(1, 100)\n",
    "\n",
    "print(\"Guess the number between 1 and 100!\")\n",
    "\n",
    "while True:\n",
    "    guess = int(input(\"Enter your guess: \"))\n",
    "\n",
    "    if guess == random_number:\n",
    "        print(\"Congratulations! You guessed the correct number.\")\n",
    "        break \n",
    "    elif guess < random_number:\n",
    "        print(\"Too low! Try again.\")\n",
    "    else:\n",
    "        print(\"Too high! Try again.\")\n",
    "    continue\n"
   ]
  },
  {
   "cell_type": "markdown",
   "id": "04f4b91e-2628-4b58-872b-4863786be9f3",
   "metadata": {},
   "source": [
    "### 100. Vowel Counter: Write a Python program that takes a string as input and counts the number of vowels (a, e, i, o, u) in it. Use a `for` loop and `continue` to skip counting non-vowel characters.\n",
    "\n"
   ]
  },
  {
   "cell_type": "code",
   "execution_count": 106,
   "id": "b3bdd45c-c44a-4ee7-8872-eaad49cf4012",
   "metadata": {},
   "outputs": [
    {
     "name": "stdin",
     "output_type": "stream",
     "text": [
      "Enter a string:  sourav\n"
     ]
    },
    {
     "name": "stdout",
     "output_type": "stream",
     "text": [
      "3\n"
     ]
    }
   ],
   "source": [
    "string_value=input(\"Enter a string: \")\n",
    "vowels_char='aeiouAEIOU'\n",
    "total_counts=0\n",
    "for char in string_value:\n",
    "    if char not in vowels_char:\n",
    "        continue\n",
    "    total_counts+=1     \n",
    "\n",
    "print(total_counts)"
   ]
  },
  {
   "cell_type": "markdown",
   "id": "fe3427a1-30bd-44e2-a0e4-cc393a6da2b4",
   "metadata": {},
   "source": [
    "### 101. Unique Characters: Write a Python program that takes a string as input and checks if it contains all unique characters (no character repeats). Use a `for` loop and `break` when a character repeats.\n",
    "\n"
   ]
  },
  {
   "cell_type": "code",
   "execution_count": 107,
   "id": "582c6603-f726-45de-bfdf-f08531b2848e",
   "metadata": {},
   "outputs": [
    {
     "name": "stdin",
     "output_type": "stream",
     "text": [
      "Enter a string:  sourav\n"
     ]
    },
    {
     "name": "stdout",
     "output_type": "stream",
     "text": [
      "The string has all unique characters.\n"
     ]
    }
   ],
   "source": [
    "string_value=input(\"Enter a string: \")\n",
    "unique_char=set()\n",
    "for char in string_value:\n",
    "    if char in unique_char:\n",
    "        print(\"The string does not have all unique characters.\")\n",
    "        break\n",
    "    unique_char.add(char)\n",
    "else:\n",
    "    print(\"The string has all unique characters.\")"
   ]
  },
  {
   "cell_type": "markdown",
   "id": "6b68d0da-1127-4cf2-85d0-b87b9d457187",
   "metadata": {},
   "source": [
    "# Functions Problems:\n"
   ]
  },
  {
   "cell_type": "markdown",
   "id": "e31a8100-0840-4ab8-bce9-4af9cb1525d6",
   "metadata": {},
   "source": [
    "### 102. Factorial Calculator: Write a Python function called `factorial` that takes an integer as input and returns its factorial. Test the function with different values."
   ]
  },
  {
   "cell_type": "code",
   "execution_count": 108,
   "id": "384a5055-bfbf-46f4-a4f5-f89b375e98eb",
   "metadata": {},
   "outputs": [
    {
     "name": "stdout",
     "output_type": "stream",
     "text": [
      "Factorial of 0 is 1\n",
      "Factorial of 1 is 1\n",
      "Factorial of 5 is 120\n",
      "Factorial of 7 is 5040\n"
     ]
    }
   ],
   "source": [
    "def factorial(n):\n",
    "    result = 1\n",
    "    for i in range(1, n + 1):\n",
    "        result *= i\n",
    "    \n",
    "    return result\n",
    "    \n",
    "test_values = [0, 1, 5, 7]\n",
    "\n",
    "for value in test_values:\n",
    "    print(f\"Factorial of {value} is {factorial(value)}\")\n"
   ]
  },
  {
   "cell_type": "markdown",
   "id": "d7465026-e639-4344-aaab-feb543950d92",
   "metadata": {},
   "source": [
    "### 103. Palindrome Checker: Write a Python function called `is_palindrome` that takes a string as input and returns `True` if it is a palindrome and `False` otherwise. Test the function with different words."
   ]
  },
  {
   "cell_type": "code",
   "execution_count": 109,
   "id": "550228e2-340e-4c36-ac46-1fa2e7bde1b1",
   "metadata": {},
   "outputs": [
    {
     "name": "stdout",
     "output_type": "stream",
     "text": [
      "radar is a palindrome.\n",
      "hello is not a palindrome.\n",
      "level is a palindrome.\n",
      "world is not a palindrome.\n"
     ]
    }
   ],
   "source": [
    "def is_palindrome(s):\n",
    "    \n",
    "    reversed_string = s[::-1]\n",
    "    return s == reversed_string\n",
    "    \n",
    "test_words = [\"radar\", \"hello\", \"level\", \"world\"]\n",
    "\n",
    "for word in test_words:\n",
    "    if is_palindrome(word):\n",
    "        print(f\"{word} is a palindrome.\")\n",
    "    else:\n",
    "        print(f\"{word} is not a palindrome.\")\n"
   ]
  },
  {
   "cell_type": "markdown",
   "id": "4e086ded-0900-4318-a05d-54683ccb276c",
   "metadata": {},
   "source": [
    "### 104. Even or Odd Checker: Write a Python function called `even_or_odd` that takes an integer as input and returns “Even” if the number is even and “Odd” if the number is odd. Test the function with different numbers.\n",
    "\n"
   ]
  },
  {
   "cell_type": "code",
   "execution_count": 110,
   "id": "a46aa415-8d05-42fe-b0fe-1576d7521b9f",
   "metadata": {},
   "outputs": [
    {
     "name": "stdout",
     "output_type": "stream",
     "text": [
      "2 is a even\n",
      "3 is a odd\n",
      "4 is a even\n",
      "5 is a odd\n",
      "6 is a even\n",
      "7 is a odd\n",
      "8 is a even\n",
      "9 is a odd\n"
     ]
    }
   ],
   "source": [
    "def even_or_odd(n):\n",
    "    if n%2==0:\n",
    "        return \"even\"\n",
    "    else:\n",
    "        return \"odd\"\n",
    "test_number=[2,3,4,5,6,7,8,9]\n",
    "for num in test_number:\n",
    "    print(f\"{num} is a {even_or_odd(num)}\")\n"
   ]
  },
  {
   "cell_type": "markdown",
   "id": "9d8bc966-d903-4649-b37e-fe1ec4796214",
   "metadata": {},
   "source": [
    "### 105. List Sum Calculator: Write a Python function called `list_sum` that takes a list of integers as input and returns the sum of all elements in the list. Test the function with different lists.\n",
    "\n"
   ]
  },
  {
   "cell_type": "code",
   "execution_count": 111,
   "id": "e3981228-ffbe-4c0f-839f-4b50328a73b6",
   "metadata": {},
   "outputs": [
    {
     "name": "stdout",
     "output_type": "stream",
     "text": [
      "The total sum is 21\n"
     ]
    }
   ],
   "source": [
    "def list_sum(n):\n",
    "    Total_sum=0\n",
    "    for i in range(n):\n",
    "        Total_sum+=i\n",
    "    return Total_sum\n",
    "Test_values=[1,2,3,4,5,6,7,8,9]\n",
    "print(f\"The total sum is {list_sum(value)}\")"
   ]
  },
  {
   "cell_type": "markdown",
   "id": "4e4f7be7-6f74-4f23-bcdf-f57c77d1ec45",
   "metadata": {},
   "source": [
    "### 106. Greatest Common Divisor (GCD) Calculator: Write a Python function called `gcd` that takes two integers as input and returns their greatest common divisor. Test the function with different pairs of numbers.\n",
    "\n"
   ]
  },
  {
   "cell_type": "code",
   "execution_count": 112,
   "id": "17bfac90-6d8a-43b0-809c-bec703ab22fa",
   "metadata": {},
   "outputs": [
    {
     "name": "stdout",
     "output_type": "stream",
     "text": [
      "GCD of 48 and 18 is 6.\n",
      "GCD of 60 and 48 is 12.\n",
      "GCD of 101 and 103 is 1.\n",
      "GCD of 8 and 12 is 4.\n"
     ]
    }
   ],
   "source": [
    "def gcd(a, b):\n",
    "    while b != 0:\n",
    "        a, b = b, a % b\n",
    "    return a\n",
    "test_pairs = [(48, 18), (60, 48), (101, 103), (8, 12)]\n",
    "\n",
    "for x, y in test_pairs:\n",
    "    print(f\"GCD of {x} and {y} is {gcd(x, y)}.\")\n"
   ]
  },
  {
   "cell_type": "markdown",
   "id": "fe8d43e4-8751-4ce3-b64b-c95fb6132feb",
   "metadata": {},
   "source": [
    "### 107. Leap Year Checker: Write a Python function called `is_leap_year` that takes a year as input and returns `True` if it is a leap year and `False` otherwise. Test the function with different years.\n",
    "\n"
   ]
  },
  {
   "cell_type": "code",
   "execution_count": 115,
   "id": "a6743938-0b82-4eb5-b48b-256f7af64942",
   "metadata": {},
   "outputs": [
    {
     "data": {
      "text/plain": [
       "'Not Leap Year'"
      ]
     },
     "execution_count": 115,
     "metadata": {},
     "output_type": "execute_result"
    }
   ],
   "source": [
    "def is_leap_year(year):\n",
    "    if (year%4==0 and year%100!=0) or (year%400==0):\n",
    "        return \"Leap Year\"\n",
    "    else:\n",
    "        return \"Not Leap Year\"\n",
    "is_leap_year(1800)"
   ]
  },
  {
   "cell_type": "code",
   "execution_count": 116,
   "id": "6a4939e8-621a-4180-a7cc-54a81963defa",
   "metadata": {},
   "outputs": [
    {
     "data": {
      "text/plain": [
       "'Leap Year'"
      ]
     },
     "execution_count": 116,
     "metadata": {},
     "output_type": "execute_result"
    }
   ],
   "source": [
    "is_leap_year(2000)"
   ]
  },
  {
   "cell_type": "code",
   "execution_count": 117,
   "id": "0fcb27db-059c-4621-a6a3-e6cb357b02bd",
   "metadata": {},
   "outputs": [
    {
     "data": {
      "text/plain": [
       "'Leap Year'"
      ]
     },
     "execution_count": 117,
     "metadata": {},
     "output_type": "execute_result"
    }
   ],
   "source": [
    "is_leap_year(2024)"
   ]
  },
  {
   "cell_type": "markdown",
   "id": "bed9726e-54e6-4a89-b858-69c3a9949088",
   "metadata": {},
   "source": [
    "# Nested Functions Problems:\n"
   ]
  },
  {
   "cell_type": "markdown",
   "id": "7439e3c7-1a0d-4b58-8d98-b973c6b17897",
   "metadata": {},
   "source": [
    "### 108. Math Operations: Write a Python function called `math_operations` that takes three numbers and a string representing an operation (‘add’, ‘subtract’, ‘multiply’, or ‘divide’). The function should return the result of the specified operation on the three numbers. Implement the math operations as nested functions.\n",
    "\n"
   ]
  },
  {
   "cell_type": "code",
   "execution_count": 118,
   "id": "6543e5ca-571c-4f34-ab2f-bb656da00005",
   "metadata": {},
   "outputs": [
    {
     "name": "stdout",
     "output_type": "stream",
     "text": [
      "15\n",
      "-7\n",
      "120\n",
      "0.13333333333333333\n"
     ]
    }
   ],
   "source": [
    "def math_operations(a, b, c, operation):\n",
    "    \n",
    "    def add(x, y, z):\n",
    "        return x + y + z\n",
    "\n",
    "    def subtract(x, y, z):\n",
    "        return x - y - z\n",
    "\n",
    "    def multiply(x, y, z):\n",
    "        return x * y * z\n",
    "\n",
    "    def divide(x, y, z):\n",
    "        if y == 0 or z == 0:\n",
    "            return \"Cannot divide by zero\"\n",
    "        return x / y / z\n",
    "\n",
    "    if operation == 'add':\n",
    "        return add(a, b, c)\n",
    "    elif operation == 'subtract':\n",
    "        return subtract(a, b, c)\n",
    "    elif operation == 'multiply':\n",
    "        return multiply(a, b, c)\n",
    "    elif operation == 'divide':\n",
    "        return divide(a, b, c)\n",
    "    else:\n",
    "        return \"Invalid operation\"\n",
    "        \n",
    "print(math_operations(4, 5, 6, 'add'))       \n",
    "print(math_operations(4, 5, 6, 'subtract'))  \n",
    "print(math_operations(4, 5, 6, 'multiply'))  \n",
    "print(math_operations(4, 5, 6, 'divide'))    \n"
   ]
  },
  {
   "cell_type": "markdown",
   "id": "b9ad41f3-36cb-40ef-8309-15902ed30185",
   "metadata": {},
   "source": [
    "### 109. Greeting Generator: Write a Python function called `greeting_generator` that takes a name as input and returns a greeting message using nested functions. The greeting message should be customizable (e.g., “Hello, {name}! How are you today?”).\n",
    "\n"
   ]
  },
  {
   "cell_type": "code",
   "execution_count": 119,
   "id": "e3c6ccee-e5d6-43ad-b573-cf9a3e1dbace",
   "metadata": {},
   "outputs": [
    {
     "name": "stdout",
     "output_type": "stream",
     "text": [
      "Hello, Karim! How are you today?\n",
      "Hello, Rahim! How are you today?\n"
     ]
    }
   ],
   "source": [
    "def greeting_generator(name):\n",
    "    \n",
    "    def greeting_message():\n",
    "        return f\"Hello, {name}! How are you today?\"\n",
    "\n",
    "    \n",
    "    return greeting_message()\n",
    "\n",
    "print(greeting_generator(\"Karim\"))\n",
    "print(greeting_generator(\"Rahim\"))\n"
   ]
  },
  {
   "cell_type": "markdown",
   "id": "f4c3cb8c-652a-425f-a0df-ea0013befae8",
   "metadata": {},
   "source": [
    "### 110. Temperature Converter: Write a Python function called `temperature_converter` that takes a temperature value and a string representing the scale (‘C’ for Celsius or ‘F’ for Fahrenheit) as input. The function should convert the temperature from one scale to the other using nested functions and return the converted value.\n",
    "\n"
   ]
  },
  {
   "cell_type": "code",
   "execution_count": 120,
   "id": "634470f7-6df1-49e2-913a-c9df87c1b27f",
   "metadata": {},
   "outputs": [
    {
     "name": "stdout",
     "output_type": "stream",
     "text": [
      "212.0\n",
      "0.0\n"
     ]
    }
   ],
   "source": [
    "def temperature_converter(value, scale):\n",
    "    # Nested function to convert Celsius to Fahrenheit\n",
    "    def celsius_to_fahrenheit(celsius):\n",
    "        return (celsius * 9/5) + 32\n",
    "    \n",
    "    # Nested function to convert Fahrenheit to Celsius\n",
    "    def fahrenheit_to_celsius(fahrenheit):\n",
    "        return (fahrenheit - 32) * 5/9\n",
    "    \n",
    "    # Check the input scale and perform the conversion\n",
    "    if scale == 'C':\n",
    "        return celsius_to_fahrenheit(value)\n",
    "    elif scale == 'F':\n",
    "        return fahrenheit_to_celsius(value)\n",
    "    else:\n",
    "        return \"Invalid scale. Use 'C' for Celsius or 'F' for Fahrenheit.\"\n",
    "\n",
    "# Test the function\n",
    "print(temperature_converter(100, 'C'))  \n",
    "print(temperature_converter(32, 'F'))  \n"
   ]
  },
  {
   "cell_type": "markdown",
   "id": "2acdd81b-b0b6-43b2-aec4-933fa0b8f609",
   "metadata": {},
   "source": [
    "# Recursion"
   ]
  },
  {
   "cell_type": "markdown",
   "id": "3a4dd7ef-bbd2-4389-af8c-9d7e207578a0",
   "metadata": {},
   "source": [
    "### 111. Factorial Calculation: Write a recursive Python function called `factorial` that takes a non-negative integer as input and returns its factorial.\n",
    "\n"
   ]
  },
  {
   "cell_type": "code",
   "execution_count": 121,
   "id": "d9233ef0-6d46-4171-b3fd-0ab4adfe6a11",
   "metadata": {},
   "outputs": [],
   "source": [
    "def factorial(n):\n",
    "    # Base case: factorial of 0 or 1 is 1\n",
    "    if n == 0 or n == 1:\n",
    "        return 1\n",
    "    # Recursive case: n * factorial of (n-1)\n",
    "    else:\n",
    "        return n * factorial(n - 1)"
   ]
  },
  {
   "cell_type": "code",
   "execution_count": 122,
   "id": "ead590ef-59b8-4c75-b76c-1ffc33e5ba4f",
   "metadata": {},
   "outputs": [
    {
     "name": "stdout",
     "output_type": "stream",
     "text": [
      "120\n"
     ]
    }
   ],
   "source": [
    "print(factorial(5))"
   ]
  },
  {
   "cell_type": "markdown",
   "id": "e6873ec9-fbcd-40c2-bfbc-af24c117cda8",
   "metadata": {},
   "source": [
    "### 112. Fibonacci Series: Write a recursive Python function called `Fibonacci` that takes an integer N as input and returns the Nth number in the Fibonacci series. The Fibonacci series is defined as follows: F(0) = 0, F(1) = 1, and F(n) = F(n-1) + F(n-2) for n > 1.\n",
    "\n"
   ]
  },
  {
   "cell_type": "code",
   "execution_count": 123,
   "id": "28c276af-cc40-4efa-a3ad-57f4984b1a19",
   "metadata": {},
   "outputs": [],
   "source": [
    "def Fibonacci(n):\n",
    "    # Base cases: F(0) = 0, F(1) = 1\n",
    "    if n == 0:\n",
    "        return 0\n",
    "    elif n == 1:\n",
    "        return 1\n",
    "    # Recursive case: F(n) = F(n-1) + F(n-2)\n",
    "    else:\n",
    "        return Fibonacci(n - 1) + Fibonacci(n - 2)"
   ]
  },
  {
   "cell_type": "code",
   "execution_count": 124,
   "id": "9450dc26-0b96-4a13-a5ca-15b6f8350176",
   "metadata": {},
   "outputs": [
    {
     "name": "stdout",
     "output_type": "stream",
     "text": [
      "13\n"
     ]
    }
   ],
   "source": [
    "print(Fibonacci(7))"
   ]
  },
  {
   "cell_type": "markdown",
   "id": "9532b58a-466f-435f-a7b9-86738773c779",
   "metadata": {},
   "source": [
    "### 113. The sum of Digits: Write a recursive Python function called `sum_of_digits` that takes an integer as input and returns the sum of its digits.\n",
    "\n"
   ]
  },
  {
   "cell_type": "code",
   "execution_count": 125,
   "id": "5afe9874-b73a-4ecf-921e-68948229735a",
   "metadata": {},
   "outputs": [],
   "source": [
    "def sum_of_digits(n):\n",
    "    # Base case: if the number is a single digit, return the number\n",
    "    if n < 10:\n",
    "        return n\n",
    "    else:\n",
    "        # Recursive case: add the last digit to the sum of digits of the remaining number\n",
    "        return n % 10 + sum_of_digits(n // 10)"
   ]
  },
  {
   "cell_type": "code",
   "execution_count": 126,
   "id": "bb65d40b-d922-403c-8df5-369ca39a068a",
   "metadata": {},
   "outputs": [
    {
     "name": "stdout",
     "output_type": "stream",
     "text": [
      "8\n"
     ]
    }
   ],
   "source": [
    "print(sum_of_digits(134))"
   ]
  },
  {
   "cell_type": "markdown",
   "id": "3b9fb297-a3c7-402a-a310-57fc6945937a",
   "metadata": {},
   "source": [
    "### 114. Binary Search: Write a recursive Python function called `binary_search` that takes a sorted list and a target value as input and returns the index of the target value in the list using binary search. If the target value is not in the list, return -1.\n",
    "\n"
   ]
  },
  {
   "cell_type": "code",
   "execution_count": 127,
   "id": "41a836cd-02af-42cf-b219-6e9e81a70760",
   "metadata": {},
   "outputs": [],
   "source": [
    "def binary_search(arr, target, low, high):\n",
    "    # Base case: if the range is invalid, the target is not in the list\n",
    "    if low > high:\n",
    "        return -1\n",
    "    \n",
    "    # Calculate the middle index\n",
    "    mid = (low + high) // 2\n",
    "    \n",
    "    # Check if the target is at the middle index\n",
    "    if arr[mid] == target:\n",
    "        return mid\n",
    "    # If the target is smaller than the middle element, search in the left half\n",
    "    elif arr[mid] > target:\n",
    "        return binary_search(arr, target, low, mid - 1)\n",
    "    # If the target is larger than the middle element, search in the right half\n",
    "    else:\n",
    "        return binary_search(arr, target, mid + 1, high)\n"
   ]
  },
  {
   "cell_type": "code",
   "execution_count": 128,
   "id": "5360fccc-070a-482f-ae26-c758e60dff90",
   "metadata": {},
   "outputs": [
    {
     "name": "stdout",
     "output_type": "stream",
     "text": [
      "3\n"
     ]
    }
   ],
   "source": [
    "arr = [1, 3, 5, 7, 9]\n",
    "target = 7\n",
    "result = binary_search(arr, target, 0, len(arr) - 1)\n",
    "print(result) "
   ]
  },
  {
   "cell_type": "markdown",
   "id": "f810ff78-d283-4c36-a0ad-c9a731f9adbf",
   "metadata": {},
   "source": [
    "### 115. Power Calculation: Write a recursive Python function called `power` that takes two positive integers, base and exponent, as input and returns the value of base raised to the exponent.\n",
    "\n"
   ]
  },
  {
   "cell_type": "code",
   "execution_count": 129,
   "id": "9d6b4096-375b-41b4-896c-ce69fe34ebf7",
   "metadata": {},
   "outputs": [],
   "source": [
    "def power(base, exponent):\n",
    "    # Base case: anything raised to the power of 0 is 1\n",
    "    if exponent == 0:\n",
    "        return 1\n",
    "    # Recursive case: base * (base raised to the power of exponent - 1)\n",
    "    else:\n",
    "        return base * power(base, exponent - 1)\n"
   ]
  },
  {
   "cell_type": "code",
   "execution_count": 130,
   "id": "da1a0bd6-a7f5-4f28-bc30-c13ecfb4cde2",
   "metadata": {},
   "outputs": [
    {
     "name": "stdout",
     "output_type": "stream",
     "text": [
      "512\n"
     ]
    }
   ],
   "source": [
    "print(power(8, 3))"
   ]
  }
 ],
 "metadata": {
  "kernelspec": {
   "display_name": "Python 3 (ipykernel)",
   "language": "python",
   "name": "python3"
  },
  "language_info": {
   "codemirror_mode": {
    "name": "ipython",
    "version": 3
   },
   "file_extension": ".py",
   "mimetype": "text/x-python",
   "name": "python",
   "nbconvert_exporter": "python",
   "pygments_lexer": "ipython3",
   "version": "3.12.5"
  }
 },
 "nbformat": 4,
 "nbformat_minor": 5
}
